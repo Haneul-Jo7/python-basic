{
 "cells": [
  {
   "cell_type": "code",
   "execution_count": 1,
   "id": "f756c0b5-45c7-4b70-8d16-4289e0afaf88",
   "metadata": {},
   "outputs": [],
   "source": [
    "from pprint import pprint\n",
    "import random"
   ]
  },
  {
   "cell_type": "markdown",
   "id": "9d39c99a",
   "metadata": {
    "slideshow": {
     "slide_type": "slide"
    }
   },
   "source": [
    "# 모듈(Module)\n",
    "\n",
    "- 독립적인 기능을 가지고 재사용 가능한 프로그램 단위를 모듈이라고 한다.\n",
    "- **파이썬에서 모듈**은 재사용 가능한 변수, 함수, 클래스들을 작성한 소스 파일을 말한다.\n",
    "    - 함수나 클래스를 작성한 파이썬 파일 (`.py` 파일)이 모듈이 된다.\n",
    "- 모듈파일에 작성된 함수나 클래스들을 다른 python 프로그램에서 호출 하여 사용할 수 있다.\n",
    "    - 단 사용하기 위해서는 `import` 를 먼저 해야 한다.\n",
    "- 이런 모듈들을 모아 놓으면 라이브러리가 된다.\n",
    "- **모듈의 종류**\n",
    "    - 표준 모듈\n",
    "        - 파이썬에 내장된 모듈\n",
    "    - 사용자 정의 모듈\n",
    "        - 개발자가 재사용을 위해 직접 만든 모듈 \n",
    "    - 3rd Party 모듈\n",
    "        - 특정 개발업체나 개발자들이 만들어 배포하는 모듈\n",
    "        - 사용자 정의 모듈도 배포되어 다른 곳에서 사용되면 3rd party 모듈이 된다.\n",
    "     \n",
    "> ## 파이썬 파일\n",
    "> - script 파일: 파이썬 실행 파일. 처리할 것을 실행 순서대로 작성한 파이썬 파일.\n",
    "> - module파일: 파이썬 라이브러리로 재사용가능한 함수, 클래스들을 작성한 파이썬 파일."
   ]
  },
  {
   "cell_type": "markdown",
   "id": "0ba07092",
   "metadata": {
    "slideshow": {
     "slide_type": "slide"
    }
   },
   "source": [
    "# 패키지 (Package)\n",
    "- 모듈(들)을 저장한 디렉토리를 패키지라고 한다.\n",
    "    - 그래서 파이썬에서는 **라이브러리를 패키지라고 한다.** (재사용가능한 모듈들을 모아 놓은 것이 패키지이므로)\n",
    "- 물리적으로는 모듈 파일(.py)들을 모아놓은 디렉토리(폴더)가 패키지이다.  \n",
    "- python 3.3 이전 버전은 package 디렉토리에 **\\_\\_init\\_\\_.py** 파일을 그 디렉토리에 반드시 위치시켜야 한다.\n",
    "    - 3.3 이후에는 위치시킬 필요는 없지만 package안의 모듈들의 import 관련 설정을 해야 하는 경우에는 `__init__.py`에 작성하고 위치시킨다.\n",
    "- **Root Package**\n",
    "    - 라이브러리를 구성하는 전체 모듈들을 담고 있는 최상위 패키지(디렉토리)\n",
    "    - 패키지 내의 속한 패키지를 통칭 **sub package** 라고 한다.\n",
    "    - Root package를 제외한 모든 package들은 다 sub package가 된다."
   ]
  },
  {
   "cell_type": "code",
   "execution_count": null,
   "id": "613a243f-c2b8-4750-8462-eece45bf3bbb",
   "metadata": {},
   "outputs": [],
   "source": [
    "# %%writefile 파일 경로\n",
    "# cell의 내용을 파일경로에 저장 (실행하지 않는다.) \n",
    "# cell 첫줄에 작성"
   ]
  },
  {
   "cell_type": "code",
   "execution_count": 20,
   "id": "6c9f81f6-82d8-4849-8d86-a2b6876f6edf",
   "metadata": {},
   "outputs": [
    {
     "name": "stdout",
     "output_type": "stream",
     "text": [
      "Overwriting greeting_module.py\n"
     ]
    }
   ],
   "source": [
    "%%writefile greeting_module.py\n",
    "\n",
    "# 인사말 관련 모듈 -> 패키지가 없는 모듈. \n",
    "# 셀에서 파일로 저장하는 방법 / jupyter notebook feature. magic command\n",
    "__version__ = 1.0\n",
    "\n",
    "def print_greeting(name):\n",
    "    print(f\"{name}님 안녕하세요.\")\n",
    "\n",
    "def print_welcome(name):\n",
    "    print(f\"{name}님 환영합니다.\")\n",
    "\n",
    "def get_greeting(name):\n",
    "    return f\"{name}님 안녕하세요.\"\n",
    "\n",
    "class Hello:\n",
    "\n",
    "    def __init__(self, name):\n",
    "        self.name = name\n",
    "\n",
    "    def kor_greet(self):\n",
    "        return f\"{name}님 안녕하세요.\"\n",
    "\n",
    "    def eng_greet(self):\n",
    "        return f\"Hello {name}~!\"\n",
    "\n",
    "print(\"준비가 완료되었습니다.\")"
   ]
  },
  {
   "cell_type": "code",
   "execution_count": 21,
   "id": "f9155b4c-ca0a-44ab-ad4b-27e750c62c03",
   "metadata": {},
   "outputs": [
    {
     "name": "stdout",
     "output_type": "stream",
     "text": [
      "11111\n"
     ]
    }
   ],
   "source": [
    "# %load greeting_module.py\n",
    "\n",
    "# 인사말 관련 모듈\n",
    "# 셀에서 파일로 저장하는 방법 / jupyter notebook feature. magic command\n",
    "__version__ = 1.0\n",
    "\n",
    "def print_greeting(name):\n",
    "    print(f\"{name}님 안녕하세요.\")\n",
    "\n",
    "def print_welcome(name):\n",
    "    print(f\"{name}님 환영합니다.\")\n",
    "\n",
    "def get_greeting(name):\n",
    "    return f\"{name}님 안녕하세요.\"\n",
    "\n",
    "class Hello:\n",
    "\n",
    "    def __init__(self, name):\n",
    "        self.name = name\n",
    "\n",
    "    def kor_greet(self):\n",
    "        return f\"{name}님 안녕하세요.\"\n",
    "\n",
    "    def eng_greet(self):\n",
    "        return f\"Hello {name}~!\"\n",
    "\n",
    "print(11111)\n"
   ]
  },
  {
   "cell_type": "code",
   "execution_count": null,
   "id": "00a662f2",
   "metadata": {},
   "outputs": [],
   "source": []
  },
  {
   "cell_type": "code",
   "execution_count": 1,
   "id": "70b9810c-f177-49dd-b1c3-899a02b61f44",
   "metadata": {},
   "outputs": [
    {
     "name": "stdout",
     "output_type": "stream",
     "text": [
      "준비가 완료되었습니다.\n"
     ]
    }
   ],
   "source": [
    "# import 모듈명 (모듈명은 모듈파일의 이름만 작성 - .py는 생략.)\n",
    "import greeting_module  # greeting_module.py 실행 "
   ]
  },
  {
   "cell_type": "code",
   "execution_count": 2,
   "id": "25433b93-e661-4ad5-9159-519331562d78",
   "metadata": {},
   "outputs": [
    {
     "name": "stdout",
     "output_type": "stream",
     "text": [
      "홍길동님 안녕하세요.\n"
     ]
    }
   ],
   "source": [
    "# 모듈이름.함수() 모듈이름.class()\n",
    "greeting_module.print_greeting(\"홍길동\")"
   ]
  },
  {
   "cell_type": "code",
   "execution_count": 3,
   "id": "31370cbb-255f-402e-91f8-b4b2f816155f",
   "metadata": {},
   "outputs": [],
   "source": [
    "hello = greeting_module.Hello(\"유관순\")"
   ]
  },
  {
   "cell_type": "code",
   "execution_count": 4,
   "id": "78659230-99b5-4df9-bef0-9d3fd4688412",
   "metadata": {},
   "outputs": [
    {
     "data": {
      "text/plain": [
       "'Hello 유관순~!'"
      ]
     },
     "execution_count": 4,
     "metadata": {},
     "output_type": "execute_result"
    }
   ],
   "source": [
    "hello.eng_greet()"
   ]
  },
  {
   "cell_type": "code",
   "execution_count": 5,
   "id": "90bd01f5-f116-4f2a-b593-a273f115fa74",
   "metadata": {},
   "outputs": [
    {
     "data": {
      "text/plain": [
       "'유관순님 안녕하세요.'"
      ]
     },
     "execution_count": 5,
     "metadata": {},
     "output_type": "execute_result"
    }
   ],
   "source": [
    "hello.kor_greet()"
   ]
  },
  {
   "cell_type": "code",
   "execution_count": 12,
   "id": "0eed985f-2c00-4723-a145-cb50233c2aa2",
   "metadata": {},
   "outputs": [
    {
     "name": "stdout",
     "output_type": "stream",
     "text": [
      "Overwriting my_module/my_operator.py\n"
     ]
    }
   ],
   "source": [
    "%%writefile my_module/my_operator.py\n",
    "## 패키지가 있는 모듈 -> 모듈 파일을 패키지 디렉토리에 넣어준다. \n",
    "\n",
    "__version__ = 0.1\n",
    "\n",
    "def plus():\n",
    "    print(\"덧셈\")\n",
    "\n",
    "def mius():\n",
    "    print(\"뺼셈\")\n",
    "\n",
    "def multiply():\n",
    "    print(\"곱셈\")\n",
    "\n",
    "def divide():\n",
    "    print(\"나눗셈\")"
   ]
  },
  {
   "cell_type": "code",
   "execution_count": null,
   "id": "253c9afc-016c-430c-b2dc-71356d1db854",
   "metadata": {},
   "outputs": [],
   "source": []
  },
  {
   "cell_type": "code",
   "execution_count": 1,
   "id": "90942d5b-00fc-4a4c-88f4-19e8ee5eba92",
   "metadata": {},
   "outputs": [],
   "source": [
    "import my_module.my_operator  # import 패키지.모듈 "
   ]
  },
  {
   "cell_type": "code",
   "execution_count": 2,
   "id": "43cd6131-d8d1-4723-9576-563415e9ccd2",
   "metadata": {},
   "outputs": [
    {
     "ename": "NameError",
     "evalue": "name 'my_operator' is not defined",
     "output_type": "error",
     "traceback": [
      "\u001b[1;31m---------------------------------------------------------------------------\u001b[0m",
      "\u001b[1;31mNameError\u001b[0m                                 Traceback (most recent call last)",
      "Cell \u001b[1;32mIn[2], line 1\u001b[0m\n\u001b[1;32m----> 1\u001b[0m \u001b[43mmy_operator\u001b[49m\u001b[38;5;241m.\u001b[39mplus()\n",
      "\u001b[1;31mNameError\u001b[0m: name 'my_operator' is not defined"
     ]
    }
   ],
   "source": [
    "my_operator.plus()"
   ]
  },
  {
   "cell_type": "markdown",
   "id": "4a874a76",
   "metadata": {
    "slideshow": {
     "slide_type": "slide"
    }
   },
   "source": [
    "# import\n",
    "\n",
    "## 함수, 클래스 정의란\n",
    "1. 함수, 클래스를 구현한다.\n",
    "2. 구현된 함수, 클래스를 파이썬 실행환경에 등록한다.\n",
    "    - 등록하는 것은 메모리에 올리는(loading) 작업이다.\n",
    "    - 메모리에 올리기 위해서는 구현된 것을 실행시켜서 파이썬 실행환경이 읽도록 해야 한다.\n",
    "- 파이썬 실행환경에 등록된 함수와 클래스만 호출해서 사용할 수 있다."
   ]
  },
  {
   "cell_type": "markdown",
   "id": "654df5d6",
   "metadata": {
    "slideshow": {
     "slide_type": "subslide"
    }
   },
   "source": [
    "## import 란\n",
    "- 파이썬 모듈 파일에 정의된 변수, 함수, 클래스들을 사용하기 위해 **파이썬 실행환경에 등록하는 작업**을 말한다.\n",
    "- 현재 프로그램 모듈의 것들이 아니라 **다른 모듈에 있는 것들은 사용하기 위해 import 작업을 먼저 해야 한다.**\n",
    "- 모듈을 import 하면 모듈의 내용이 실행되면서 그 안에 정의된 변수, 함수, 클래스들이 파이썬 실행환경 등록된다.\n",
    "    - import 된 변수, 함수, 클래스들은 모듈별로 namespace를 만들어 각각 등록된다.\n",
    "        - 현재 실행중인 module(main module) 에 정의된 함수, 클래스, 변수들이 저장되는 namespace와 import 되어 등록된 것들이 저장되는 namespace를 나누어 등록한다.\n",
    "\n",
    "\n",
    "> - **namespace**\n",
    ">    - 여러개의 객체(존재하는 무언가)를 하나로 묶어 주면서 구분자 역할을 하는 이름을 주는 것을 namespace라고 한다.\n",
    ">    - namespace를 이용해 각 그룹들의 객체들을 구분할 수 있다. 그래서 같은 이름의 객체들을 사용할 수 있다.\n",
    ">    - 파이썬에서는 모듈에 정의된 변수, 함수, 클래스 들을 실행환경에 등록할 때 모듈명을 namespace로 묶어서 등록한다.\n",
    ">    - [위키백과 참고](https://ko.wikipedia.org/wiki/%EC%9D%B4%EB%A6%84%EA%B3%B5%EA%B0%84)"
   ]
  },
  {
   "cell_type": "code",
   "execution_count": null,
   "id": "0eda3387-bf1e-43a2-b55e-db12aa17c01f",
   "metadata": {},
   "outputs": [],
   "source": []
  },
  {
   "cell_type": "markdown",
   "id": "34083bd0",
   "metadata": {
    "slideshow": {
     "slide_type": "subslide"
    }
   },
   "source": [
    "## import 구문\n",
    "- 기본구문\n",
    "    - `[from 사용할 것의 경로] import 사용할 것 [as 별칭] [, 사용할 것 [as 별칭], ...]`\n",
    "        - \\[ \\] : 생략 가능한 구문\n",
    "    - 사용할 것\n",
    "        - 모듈\n",
    "        - 모듈안에 정의된 변수, 함수, 클래스"
   ]
  },
  {
   "cell_type": "code",
   "execution_count": 4,
   "id": "49c77ac4-293e-4554-82bc-5f04d54b757d",
   "metadata": {},
   "outputs": [
    {
     "name": "stdout",
     "output_type": "stream",
     "text": [
      "준비가 완료되었습니다.\n"
     ]
    }
   ],
   "source": [
    "# import 모듈명 (모듈명은 모듈파일의 이름만 작성 - .py는 생략.)\n",
    "# import greeting_module # greeting_module.py를 실행\n",
    "import greeting_module as gm\n",
    "# import 모듈명 as 별칭\n",
    "## 모듈명에 정의된 함수/클래스/변수들을 별칭 namespace에 저장.\n",
    "#  별칭이 있을 경우 -> 별칭.함수(), 별칭.클래스()  모듈이름으로는 호출 못함. \n"
   ]
  },
  {
   "cell_type": "code",
   "execution_count": 5,
   "id": "4254fd94-42e2-429e-8f00-6eaf0a733539",
   "metadata": {},
   "outputs": [
    {
     "name": "stdout",
     "output_type": "stream",
     "text": [
      "이순신님 안녕하세요.\n"
     ]
    }
   ],
   "source": [
    "gm.print_greeting(\"이순신\")"
   ]
  },
  {
   "cell_type": "code",
   "execution_count": 7,
   "id": "cba91611-f0e4-4ebb-8ad6-cc619a3a02ae",
   "metadata": {},
   "outputs": [],
   "source": [
    "import greeting_module"
   ]
  },
  {
   "cell_type": "code",
   "execution_count": 11,
   "id": "4394be35-c48b-4f5f-8ba8-cd6711c825da",
   "metadata": {},
   "outputs": [],
   "source": [
    "import my_module.my_operator as mm"
   ]
  },
  {
   "cell_type": "code",
   "execution_count": 12,
   "id": "2db0f1cf-cd3a-4617-8de1-ff94a7372656",
   "metadata": {},
   "outputs": [
    {
     "name": "stdout",
     "output_type": "stream",
     "text": [
      "0.1\n"
     ]
    }
   ],
   "source": [
    "print(my_module.my_operator.__version__)"
   ]
  },
  {
   "cell_type": "code",
   "execution_count": 13,
   "id": "425c7716-3e60-408b-ae25-92d35d3a1c05",
   "metadata": {},
   "outputs": [
    {
     "name": "stdout",
     "output_type": "stream",
     "text": [
      "0.1\n"
     ]
    }
   ],
   "source": [
    "print(mm.__version__)"
   ]
  },
  {
   "cell_type": "code",
   "execution_count": 20,
   "id": "2bd62e62-bfe6-47ea-b816-f00c342c3b1a",
   "metadata": {},
   "outputs": [],
   "source": [
    "#  사용할 함수/클래스만 imoprt -> 현재 program에 정의된 함수/ 클래스처럼 사용가능.\n",
    "# greeting_module의 print_welcom(), print_greeting() 만 사용하도록 import\n",
    "## from 모듈명 import 함수\n",
    "## from 모듈명 import 클래스 \n",
    "from greeting_module import print_welcome as pw\n",
    "from greeting_module import print_greeting"
   ]
  },
  {
   "cell_type": "code",
   "execution_count": 22,
   "id": "47c5d218-ee05-4ea5-9fc0-91c9a24ccbe0",
   "metadata": {},
   "outputs": [
    {
     "name": "stdout",
     "output_type": "stream",
     "text": [
      "홍길님 환영합니다.\n"
     ]
    }
   ],
   "source": [
    "pw(\"홍길\")"
   ]
  },
  {
   "cell_type": "code",
   "execution_count": 26,
   "id": "97ac5bd4-fe67-4a8c-92bc-c86bb8ae1b34",
   "metadata": {},
   "outputs": [
    {
     "data": {
      "text/plain": [
       "'한석봉님 안녕하세요.'"
      ]
     },
     "execution_count": 26,
     "metadata": {},
     "output_type": "execute_result"
    }
   ],
   "source": [
    "# 같은 모듈의 함수/클래스들을 import\n",
    "from greeting_module import print_welcome, print_greeting, get_greeting \n",
    "get_greeting(\"한석봉\")"
   ]
  },
  {
   "cell_type": "code",
   "execution_count": 4,
   "id": "c5078c9d-bfd8-406f-a2c4-53b7b4a3d6ab",
   "metadata": {},
   "outputs": [
    {
     "name": "stdout",
     "output_type": "stream",
     "text": [
      "덧셈\n",
      "뺼셈\n"
     ]
    }
   ],
   "source": [
    "from my_module.my_operator import plus, minus\n",
    "plus()\n",
    "minus()"
   ]
  },
  {
   "cell_type": "code",
   "execution_count": 6,
   "id": "823eeb2c-8f86-4c13-bd1b-ed14271a4d0c",
   "metadata": {},
   "outputs": [],
   "source": [
    "from my_module import my_operator  # my_operator.plus()\n",
    "import my_module.my_operator as mm # mm.plus() "
   ]
  },
  {
   "cell_type": "code",
   "execution_count": null,
   "id": "9e3cacf9-f344-404a-b8b7-7bda7d2d48ad",
   "metadata": {},
   "outputs": [],
   "source": []
  },
  {
   "cell_type": "markdown",
   "id": "37a67c0e",
   "metadata": {
    "slideshow": {
     "slide_type": "subslide"
    }
   },
   "source": [
    "<b style='font-size:1.2em'> 1. 모듈 import</b>\n",
    "```python\n",
    "import 모듈   # 하나의 모듈 import.\n",
    "import 모듈 as 별칭 # namespace의 이름을 모듈명이 아니라 별칭으로 지정한다.\n",
    "import 모듈_1, 모듈_2 # 여러개 모듈 import.','를 구분자로 나열한다.\n",
    "```\n",
    "- 모듈을 import 하고 그 안에 함수, 클래스들을 사용할 때는 **모듈명이 namespace 의 이름이** 되므로 `모듈명.함수()`, `모듈명.Class` 구문으로 호출한다.\n",
    "    - namespace의 이름은 **import 뒤에 지정한 이름으로 설정된다.**\n",
    "- 별칭(Alias)를 주면 namespace의 이름으로 지정한 별칭을 사용한다.\n",
    "- **예**\n",
    "```python\n",
    "import test_module\n",
    "import my_module as mm\n",
    "# test_module의 hello() 함수 호출시\n",
    "test_module.hello()\n",
    "# my_module은 mm 별칭을 지정했으므로 mm을 namespace로 사용한다.\n",
    "p = mm.Person('홍길동', 30) # my_module의 Person 클래스 객체 생성\n",
    "```"
   ]
  },
  {
   "cell_type": "code",
   "execution_count": 6,
   "id": "d01890a3-e506-4bd4-80a2-37047906e790",
   "metadata": {},
   "outputs": [],
   "source": [
    "def print_welcome():\n",
    "    print(\"aaaaaaaa\")"
   ]
  },
  {
   "cell_type": "code",
   "execution_count": 7,
   "id": "5709c926",
   "metadata": {
    "slideshow": {
     "slide_type": "fragment"
    }
   },
   "outputs": [],
   "source": [
    "from greeting_module import *  # 전체 함수 호출, 사용은 지양 "
   ]
  },
  {
   "cell_type": "code",
   "execution_count": 8,
   "id": "550e2285-d661-448a-abd5-9f6ebc269a20",
   "metadata": {},
   "outputs": [
    {
     "ename": "TypeError",
     "evalue": "print_welcome() missing 1 required positional argument: 'name'",
     "output_type": "error",
     "traceback": [
      "\u001b[1;31m---------------------------------------------------------------------------\u001b[0m",
      "\u001b[1;31mTypeError\u001b[0m                                 Traceback (most recent call last)",
      "Cell \u001b[1;32mIn[8], line 1\u001b[0m\n\u001b[1;32m----> 1\u001b[0m \u001b[43mprint_welcome\u001b[49m\u001b[43m(\u001b[49m\u001b[43m)\u001b[49m\n",
      "\u001b[1;31mTypeError\u001b[0m: print_welcome() missing 1 required positional argument: 'name'"
     ]
    }
   ],
   "source": []
  },
  {
   "cell_type": "code",
   "execution_count": 12,
   "id": "b9dfcfaa-0f37-4df2-a64e-b9dbedd6a0be",
   "metadata": {},
   "outputs": [],
   "source": [
    "from my_module.my_operator import plus as p, minus as m"
   ]
  },
  {
   "cell_type": "code",
   "execution_count": null,
   "id": "a17b1e1a-56e8-4924-8f40-c6b097dfa01c",
   "metadata": {},
   "outputs": [],
   "source": []
  },
  {
   "cell_type": "code",
   "execution_count": null,
   "id": "24e2bdbc-4c25-411a-842a-8be8ae731b41",
   "metadata": {},
   "outputs": [],
   "source": []
  },
  {
   "cell_type": "markdown",
   "id": "63abaa38",
   "metadata": {
    "slideshow": {
     "slide_type": "subslide"
    }
   },
   "source": [
    "<b style='font-size:1.2em'>2. 모듈내의 특정 항목만 import</b>\n",
    "```python \n",
    "from 모듈 import 함수  # 함수/클래스가 있는 모듈과 함수를 분리해서 import한다.\n",
    "from 모듈 import 클래스\n",
    "from 모듈 import 함수_1, 함수_2, 클래스\n",
    "from 모듈 import *   \n",
    "```\n",
    "- 모듈에 정의된 **일부 함수나 클래스만 사용할 경우** 개별적으로 import 할 수있다.\n",
    "- `from 모듈 import 함수` 구문으로 import 하면 import한 **함수나 클래스들이 현재 실행중인 모듈의 namespace로 들어간다. 그래서 모듈명없이 바로 호출 할 수 있다.**\n",
    "- `*`를 이용하면 그 모듈의 모든 함수/클래스들을 현재 실행중인 namespace에 추가해 사용할 수 있게 해준다. 이 방식은 **이름 충돌의 가능성이 있기때문에 추천되지 않는다.**"
   ]
  },
  {
   "cell_type": "code",
   "execution_count": null,
   "id": "fc1ac887",
   "metadata": {
    "slideshow": {
     "slide_type": "fragment"
    }
   },
   "outputs": [],
   "source": []
  },
  {
   "cell_type": "markdown",
   "id": "b8bc6da8",
   "metadata": {
    "slideshow": {
     "slide_type": "subslide"
    }
   },
   "source": [
    "<b style='font-size:1.2em'>3. 패키지에 속한 모듈 import</b>\n",
    "\n",
    "```python\n",
    "import 패키지명.모듈\n",
    "from 패키지명 import 모듈\n",
    "from 패키지명 import 모듈_1, 모듈_2\n",
    "from 패키지명.모듈 import 함수\n",
    "from 패키지명.모듈 import 클래스\n",
    "from 패키지명.모듈 import 함수_1, 함수_2, 클래스\n",
    "from Root패키지.Sub패키지1.Sub패키지2 import 모듈        # 패키지가 계층구조로 되있을 경우 `.` 으로 이용해 나열한다.\n",
    "from Root패키지.Sub패키지1.Sub패키지2.모듈 import 함수\n",
    "from Root패키지.Sub패키지1.Sub패키지2.모듈 import 클래스\n",
    "```\n",
    "\n",
    "- 패키지에 속한 모듈을 import 할 때는 **from 절에 패키지를 import 절에 모듈을** 설정한다.\n",
    "- **import 가능한 것은 모듈, 변수, 함수, 클래스 들이다.**  <b style='color:red'>패키지는 import 할수 없다.</b>\n",
    "    - **모듈 안의 변수, 함수, 클래스들을 import 할 때는 `from 모듈 import 함수, 변수, 클래스` 구문을 사용해야 한다.**"
   ]
  },
  {
   "cell_type": "code",
   "execution_count": 9,
   "id": "d36a6d97-ceaa-43a9-8840-7d2b07e25d32",
   "metadata": {},
   "outputs": [
    {
     "ename": "ModuleNotFoundError",
     "evalue": "No module named 'a_module'",
     "output_type": "error",
     "traceback": [
      "\u001b[1;31m---------------------------------------------------------------------------\u001b[0m",
      "\u001b[1;31mModuleNotFoundError\u001b[0m                       Traceback (most recent call last)",
      "Cell \u001b[1;32mIn[9], line 1\u001b[0m\n\u001b[1;32m----> 1\u001b[0m \u001b[38;5;28;01mimport\u001b[39;00m \u001b[38;5;21;01ma_module\u001b[39;00m\n",
      "\u001b[1;31mModuleNotFoundError\u001b[0m: No module named 'a_module'"
     ]
    }
   ],
   "source": [
    "import a_module # a_module.py"
   ]
  },
  {
   "cell_type": "code",
   "execution_count": null,
   "id": "3defeb25-c2ff-432d-ad92-a0ecff3efae6",
   "metadata": {},
   "outputs": [],
   "source": [
    "from pkg_a.pkg_b import b_module # pkg_a/pkg_b/b_module.py"
   ]
  },
  {
   "cell_type": "code",
   "execution_count": null,
   "id": "c6699bbd-b165-41b6-996e-4b02dc8616b5",
   "metadata": {},
   "outputs": [],
   "source": []
  },
  {
   "cell_type": "code",
   "execution_count": null,
   "id": "77172c0f-dfad-42a0-b7d6-faed07b97995",
   "metadata": {},
   "outputs": [],
   "source": []
  },
  {
   "cell_type": "code",
   "execution_count": null,
   "id": "6ebd3cdd",
   "metadata": {
    "slideshow": {
     "slide_type": "fragment"
    }
   },
   "outputs": [],
   "source": []
  },
  {
   "cell_type": "markdown",
   "id": "6a263cf2",
   "metadata": {
    "slideshow": {
     "slide_type": "slide"
    }
   },
   "source": [
    "## import 된 모듈 찾는 경로 및 PYTHONPATH\n",
    "\n",
    "- `import 모듈` 구문을 사용하면 파이썬 실행 환경은 모듈을 다음 경로에서 찾는다.\n",
    "    1. 현재 실행중인 모듈(import 구문을 사용한 모듈)이 있는 경로\n",
    "    2. 파이썬 실행환경에 등록된 경로\n",
    "- 모듈을 찾는 순서는 다음에서 확인할 수 있다.\n",
    "```python\n",
    "import sys      # 표준모듈 sys\n",
    "print(sys.path) # 모듈을 찾는 경로를 저장한 list\n",
    "```\n",
    "- 위의 경로 이외에 파이썬 모듈이 있을 경우 PYTHONPATH 환경변수에 그 디렉토리 경로를 등록한다.\n",
    "    1. sys.path 에 추가한다. (사용할 때 마다 추가해야 한다.)\n",
    "    2. 운영체제 환경변수에 등록한다. (한번만 하면된다.)"
   ]
  },
  {
   "cell_type": "code",
   "execution_count": 13,
   "id": "2c02d27b-fdb8-4883-b106-9c6b2edb6488",
   "metadata": {},
   "outputs": [
    {
     "name": "stdout",
     "output_type": "stream",
     "text": [
      "['C:\\\\Users\\\\Playdata\\\\AppData\\\\Local\\\\miniconda3\\\\python312.zip',\n",
      " 'C:\\\\Users\\\\Playdata\\\\AppData\\\\Local\\\\miniconda3\\\\DLLs',\n",
      " 'C:\\\\Users\\\\Playdata\\\\AppData\\\\Local\\\\miniconda3\\\\Lib',\n",
      " 'C:\\\\Users\\\\Playdata\\\\AppData\\\\Local\\\\miniconda3',\n",
      " '',\n",
      " 'C:\\\\Users\\\\Playdata\\\\AppData\\\\Local\\\\miniconda3\\\\Lib\\\\site-packages',\n",
      " 'C:\\\\Users\\\\Playdata\\\\AppData\\\\Local\\\\miniconda3\\\\Lib\\\\site-packages\\\\win32',\n",
      " 'C:\\\\Users\\\\Playdata\\\\AppData\\\\Local\\\\miniconda3\\\\Lib\\\\site-packages\\\\win32\\\\lib',\n",
      " 'C:\\\\Users\\\\Playdata\\\\AppData\\\\Local\\\\miniconda3\\\\Lib\\\\site-packages\\\\Pythonwin']\n"
     ]
    }
   ],
   "source": [
    "import sys # 표준모듈\n",
    "from pprint import pprint\n",
    "pprint(sys.path)"
   ]
  },
  {
   "cell_type": "code",
   "execution_count": 14,
   "id": "1211e577-0dd9-45eb-87c3-3d8721ab03c6",
   "metadata": {},
   "outputs": [
    {
     "data": {
      "text/plain": [
       "list"
      ]
     },
     "execution_count": 14,
     "metadata": {},
     "output_type": "execute_result"
    }
   ],
   "source": [
    "type(sys.path)"
   ]
  },
  {
   "cell_type": "code",
   "execution_count": 15,
   "id": "261dc1b3-cbc4-4b3e-8a00-ba6b878e3b00",
   "metadata": {},
   "outputs": [],
   "source": [
    "sys.path.append(r\"c:\\temp\")"
   ]
  },
  {
   "cell_type": "code",
   "execution_count": 16,
   "id": "da742cd2-53c6-4978-bbda-b4a0a03dbc10",
   "metadata": {},
   "outputs": [
    {
     "name": "stdout",
     "output_type": "stream",
     "text": [
      "['C:\\\\Users\\\\Playdata\\\\AppData\\\\Local\\\\miniconda3\\\\python312.zip',\n",
      " 'C:\\\\Users\\\\Playdata\\\\AppData\\\\Local\\\\miniconda3\\\\DLLs',\n",
      " 'C:\\\\Users\\\\Playdata\\\\AppData\\\\Local\\\\miniconda3\\\\Lib',\n",
      " 'C:\\\\Users\\\\Playdata\\\\AppData\\\\Local\\\\miniconda3',\n",
      " '',\n",
      " 'C:\\\\Users\\\\Playdata\\\\AppData\\\\Local\\\\miniconda3\\\\Lib\\\\site-packages',\n",
      " 'C:\\\\Users\\\\Playdata\\\\AppData\\\\Local\\\\miniconda3\\\\Lib\\\\site-packages\\\\win32',\n",
      " 'C:\\\\Users\\\\Playdata\\\\AppData\\\\Local\\\\miniconda3\\\\Lib\\\\site-packages\\\\win32\\\\lib',\n",
      " 'C:\\\\Users\\\\Playdata\\\\AppData\\\\Local\\\\miniconda3\\\\Lib\\\\site-packages\\\\Pythonwin',\n",
      " 'c:\\\\temp']\n"
     ]
    }
   ],
   "source": [
    "pprint(sys.path)"
   ]
  },
  {
   "cell_type": "code",
   "execution_count": 18,
   "id": "7c356d60",
   "metadata": {
    "slideshow": {
     "slide_type": "fragment"
    }
   },
   "outputs": [],
   "source": [
    "import test_module"
   ]
  },
  {
   "cell_type": "code",
   "execution_count": 20,
   "id": "e42fecac-3c2c-4743-8607-de0b2c0b0c96",
   "metadata": {},
   "outputs": [
    {
     "name": "stdout",
     "output_type": "stream",
     "text": [
      "None\n"
     ]
    }
   ],
   "source": [
    "print(test_module.test())"
   ]
  },
  {
   "cell_type": "markdown",
   "id": "4222ef77",
   "metadata": {
    "slideshow": {
     "slide_type": "slide"
    }
   },
   "source": [
    "# 메인 모듈(Main Module)과 하위 모듈(Sub Module)\n",
    "\n",
    "- **메인 모듈**\n",
    "    - 현재 실행하고 있는 모듈\n",
    "        - `python 모듈.py` 로 실행된 모듈을 말한다.\n",
    "    - application 의 main logic을 처리한다.\n",
    "- **하위 모듈 (Sub module)**\n",
    "    - 메인 모듈에서 import 되어 실행되는 모듈\n",
    "    - 모듈을 import하면 그 모듈을 실행 시킨다. 이때 모듈에 있는 실행코드들도 같이 실행된다. 이것을 방지 하기 위해 모듈이 메인 모듈로 실행되는지 하위 모듈로 실행되는지 확인이 필요하다.\n",
    "- <b>`__name__`</b> 내장 전역변수\n",
    "    - 실행 중인 모듈명을 저장하는 내장 전역변수\n",
    "    - **메인 모듈은 '\\_\\_main\\_\\_'** 을 **하위 모듈은 모듈명(파일명)** 이 저장된다.\n",
    "    - 모듈이 메인 모듈로 시작하는지 여부 확인 할 때 사용한다.\n",
    "    \n",
    "```python\n",
    "if __name__ == '__main__':\n",
    "    # 메인모듈일 때만 실행할 코드 블록\n",
    "    # 이 조건문 아래에 실행할 코드 기입\n",
    "```"
   ]
  },
  {
   "cell_type": "markdown",
   "id": "c49b710c-7312-4409-9e4d-3d9fb6aa9ffe",
   "metadata": {
    "slideshow": {
     "slide_type": "fragment"
    }
   },
   "source": [
    "명령 프롬프트\n",
    "python greeting_module.py ==> main 모듈(현재 실행중인 모듈)로 실행됨. "
   ]
  },
  {
   "cell_type": "code",
   "execution_count": 1,
   "id": "2807f728-24f5-4e66-b92b-e506c7018f50",
   "metadata": {},
   "outputs": [
    {
     "name": "stdout",
     "output_type": "stream",
     "text": [
      "준비가 완료되었습니다.\n",
      "greeting_module\n"
     ]
    }
   ],
   "source": [
    "import greeting_module # 모듈파일을 실행시킴.\n",
    "# import에 의해서 실행된 모듈 ==> sub module이라고 함. "
   ]
  },
  {
   "cell_type": "code",
   "execution_count": null,
   "id": "c7bd64df-0c20-4520-8a01-a83e94ab3dcb",
   "metadata": {},
   "outputs": [],
   "source": []
  },
  {
   "cell_type": "code",
   "execution_count": null,
   "id": "3f28c5ce-1feb-48ef-87dc-db11173584b5",
   "metadata": {},
   "outputs": [],
   "source": []
  },
  {
   "cell_type": "code",
   "execution_count": 4,
   "id": "a4d4395f-8a86-4a1f-abe7-da2629c2ade2",
   "metadata": {},
   "outputs": [
    {
     "name": "stdout",
     "output_type": "stream",
     "text": [
      "Object `basic.py` not found.\n"
     ]
    }
   ],
   "source": []
  },
  {
   "cell_type": "markdown",
   "id": "cadef5be",
   "metadata": {},
   "source": [
    "# 3rd party library 설치\n",
    "\n",
    "- 기능을 모아 놓은 것이 **모듈(module)** 이고 모듈을 모아 놓은 것이 **패키지** 이고 그런 패키지들을 모아서 놓은 것이 **Library** 이다.\n",
    "- **Library** 는 범용적으로 사용할 수있는 기능들을 구현해서 배포한 것을 말한다. 파이썬에서는 라이브러리를 패키지라고도 한다.\n",
    "- Library는 누구든 만들어서 배포(제공)할 수있다.\n",
    "    - **1st party library:** 파이썬 실행 환경 설치시 내장되어 있는 library / = 표준모듈\n",
    "    - **2nd party library:** Application을 만들면서 필요에 따가 정의한 library (내가 만든 라이브러리)\n",
    "    - **3rd party library:** 개인이나 회사 또는 단체에서 만들어 배포한 library.\n",
    "- Python은 3rd party library 생태계가 잘 이루어져 있다.\n",
    "    - 파이썬은 라이브러리 저장소(repository)를 이용해 라이브러리 작성자들과 사용자들을 연결해 배포와 사용을 쉽게 할 수 있도록 한다.\n",
    "    - **PyPI:** 파이썬 공식 라이브러리 저장소\n",
    "        - https://pypi.org/ : 라이브러리 검색 사이트\n",
    "        - pip tool을 이용해 라이브러리를 관리한다.\n",
    "    - **Conda Repository:** Anaconda 에서 제공하는 라이브러리 저장소\n",
    "        - https://anaconda.org/anaconda/repo : 패키지 검색 사이트\n",
    "        - conda tool 을 이용해 라이브러리를 관리한다."
   ]
  },
  {
   "cell_type": "code",
   "execution_count": 5,
   "id": "29a3f90c-ba11-477a-9dd6-2b18c521b00f",
   "metadata": {},
   "outputs": [
    {
     "ename": "ModuleNotFoundError",
     "evalue": "No module named 'pandas'",
     "output_type": "error",
     "traceback": [
      "\u001b[1;31m---------------------------------------------------------------------------\u001b[0m",
      "\u001b[1;31mModuleNotFoundError\u001b[0m                       Traceback (most recent call last)",
      "Cell \u001b[1;32mIn[5], line 1\u001b[0m\n\u001b[1;32m----> 1\u001b[0m \u001b[38;5;28;01mimport\u001b[39;00m \u001b[38;5;21;01mpandas\u001b[39;00m \u001b[38;5;28;01mas\u001b[39;00m \u001b[38;5;21;01mpd\u001b[39;00m\n",
      "\u001b[1;31mModuleNotFoundError\u001b[0m: No module named 'pandas'"
     ]
    }
   ],
   "source": [
    "import pandas as pd"
   ]
  },
  {
   "cell_type": "code",
   "execution_count": null,
   "id": "c7ad1c8c-aafb-4f7d-9b23-c96855ee12d7",
   "metadata": {},
   "outputs": [],
   "source": []
  },
  {
   "cell_type": "markdown",
   "id": "c914e151",
   "metadata": {},
   "source": [
    "### PIP 주요 명령어\n",
    "- pip는 python runtime 설치하면 같이 설치되는 **라이브러리 관리 툴**이다.\n",
    "- `pip --help`\n",
    "- `pip install 라이브러리[==version]` \n",
    "    - Library를 설치한다.\n",
    "    - version을 지정하면 그 버전으로 지정하지 않으면 최신버전을 설치한다.\n",
    "    - upgrade나 downgrade는 진행하지 않는다. (이미 설치 된 library가 있으면 다시 설치 하지 않는다.)\n",
    "    - 관리자 권한일 경우 설치되는 library가 있다. 이 경우 **--user** 옵션을 지정한다.\n",
    "- `pip install --upgrade 라이브러리[==version]`, \\-U \\-\\-upgrade\n",
    "    - Library를 upgrade 또는 downgrade한다.\n",
    "    - Library가 없으면 설치한다.\n",
    "    - 이미 설치된 Library가 지정한 version과 다르면 다시 설치한다. (version을 생략하면 최신버전)\n",
    "- `pip install --requirement 파일경로`,  \\-r, \\-\\-requirement\n",
    "    - 파일경로의 text 파일에 설치할 library이름과 버전을 작성한다. 그리고 작성된 library들을 한번에 설치한다.\n",
    "- `pip freeze > 파일명.txt`\n",
    "    - 현재 설치된 library들을 \\-\\-requirement로 설치할 수 있도록 text 파일에 작성해 준다. 관례적으로 파일명은 **requirements.txt** 로 한다.\n",
    "- `pip uninstall 패키지명`\n",
    "    - Library를 local 컴퓨터에서 삭제한다.\n",
    "- `pip list`: 설치된 모든 library 목록을 출력한다.\n",
    "- `pip show 라이브러리`\n",
    "    - 지정한 library의 정보를 출력한다."
   ]
  },
  {
   "cell_type": "markdown",
   "id": "4794cf5b-056e-4890-bf2f-922e89c72b68",
   "metadata": {},
   "source": [
    "가상환경 별로 모듈은 개별적으로 설치를 해주어야 한다. \n",
    "- 쓰지 않는 가상환경은 지우는 것이 좋다. "
   ]
  },
  {
   "cell_type": "code",
   "execution_count": null,
   "id": "9d47f3c4",
   "metadata": {},
   "outputs": [],
   "source": []
  }
 ],
 "metadata": {
  "kernelspec": {
   "display_name": "Python 3 (ipykernel)",
   "language": "python",
   "name": "python3"
  },
  "language_info": {
   "codemirror_mode": {
    "name": "ipython",
    "version": 3
   },
   "file_extension": ".py",
   "mimetype": "text/x-python",
   "name": "python",
   "nbconvert_exporter": "python",
   "pygments_lexer": "ipython3",
   "version": "3.12.4"
  },
  "toc": {
   "base_numbering": 1,
   "nav_menu": {},
   "number_sections": true,
   "sideBar": true,
   "skip_h1_title": false,
   "title_cell": "Table of Contents",
   "title_sidebar": "Contents",
   "toc_cell": false,
   "toc_position": {},
   "toc_section_display": true,
   "toc_window_display": false
  },
  "varInspector": {
   "cols": {
    "lenName": 16,
    "lenType": 16,
    "lenVar": 40
   },
   "kernels_config": {
    "python": {
     "delete_cmd_postfix": "",
     "delete_cmd_prefix": "del ",
     "library": "var_list.py",
     "varRefreshCmd": "print(var_dic_list())"
    },
    "r": {
     "delete_cmd_postfix": ") ",
     "delete_cmd_prefix": "rm(",
     "library": "var_list.r",
     "varRefreshCmd": "cat(var_dic_list()) "
    }
   },
   "types_to_exclude": [
    "module",
    "function",
    "builtin_function_or_method",
    "instance",
    "_Feature"
   ],
   "window_display": false
  }
 },
 "nbformat": 4,
 "nbformat_minor": 5
}
