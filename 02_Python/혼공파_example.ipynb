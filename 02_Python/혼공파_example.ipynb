{
 "cells": [
  {
   "cell_type": "code",
   "execution_count": 1,
   "id": "7223fba2-1f7a-456c-b8a0-3c8a0d904a2c",
   "metadata": {},
   "outputs": [],
   "source": [
    "# 04-1\n",
    "import random"
   ]
  },
  {
   "cell_type": "code",
   "execution_count": 16,
   "id": "fbfc876f-e827-412d-840a-cffca0cc10b3",
   "metadata": {},
   "outputs": [
    {
     "name": "stdout",
     "output_type": "stream",
     "text": [
      "856 는 3 자릿수입니다.\n",
      "402 는 3 자릿수입니다.\n",
      "259 는 3 자릿수입니다.\n",
      "836 는 3 자릿수입니다.\n",
      "355 는 3 자릿수입니다.\n",
      "377 는 3 자릿수입니다.\n",
      "830 는 3 자릿수입니다.\n",
      "273 는 3 자릿수입니다.\n",
      "410 는 3 자릿수입니다.\n",
      "650 는 3 자릿수입니다.\n"
     ]
    }
   ],
   "source": [
    "num = []\n",
    "\n",
    "for i in range(10):\n",
    "    num.append(random.randint(1, 999))\n",
    "\n",
    "for i in num:\n",
    "    if i >= 100:\n",
    "        print(i,\"는 3 자릿수입니다.\")\n",
    "    elif i >= 10:\n",
    "        print(i,\"는 2 자릿수입니다.\")\n",
    "    else:\n",
    "        print(i,\"는 1 자릿수입니다.\")"
   ]
  },
  {
   "cell_type": "code",
   "execution_count": 1,
   "id": "bdbffe06-c7f5-435a-bfd1-783b03580033",
   "metadata": {},
   "outputs": [
    {
     "name": "stdout",
     "output_type": "stream",
     "text": [
      "준비가 완료되었습니다.\n",
      "홍길동님 안녕하세요.\n",
      "유관순님 환영합니다.\n"
     ]
    }
   ],
   "source": [
    "import greeting_module as gm"
   ]
  },
  {
   "cell_type": "code",
   "execution_count": null,
   "id": "6bb7a575-613b-4520-800a-f2be5ba9de2b",
   "metadata": {},
   "outputs": [],
   "source": []
  },
  {
   "cell_type": "code",
   "execution_count": null,
   "id": "b8460a04-aa49-4ce2-b3fd-59226513ce20",
   "metadata": {},
   "outputs": [],
   "source": []
  }
 ],
 "metadata": {
  "kernelspec": {
   "display_name": "Python 3 (ipykernel)",
   "language": "python",
   "name": "python3"
  },
  "language_info": {
   "codemirror_mode": {
    "name": "ipython",
    "version": 3
   },
   "file_extension": ".py",
   "mimetype": "text/x-python",
   "name": "python",
   "nbconvert_exporter": "python",
   "pygments_lexer": "ipython3",
   "version": "3.12.4"
  }
 },
 "nbformat": 4,
 "nbformat_minor": 5
}
