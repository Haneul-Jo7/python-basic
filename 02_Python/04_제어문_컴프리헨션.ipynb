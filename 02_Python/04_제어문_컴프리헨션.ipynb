{
 "cells": [
  {
   "cell_type": "markdown",
   "id": "8c49cd8e",
   "metadata": {
    "slideshow": {
     "slide_type": "slide"
    }
   },
   "source": [
    "# 제어문(Control flow statement)\n",
    "기본적으로 프로그램은 순차구조를 가진다. 즉 작성한 순서대로 실행이 된다.  \n",
    "이런 실행흐름을 다른 순서로 제어하기 위한 구문을 만드는 문법이 제어문이다.  \n",
    "제어문은 **조건문** 과 **반복문** 두가지 문법이 있다.\n",
    "- **조건문**\n",
    "    - if 문\n",
    "- **반복문**\n",
    "    - while 문\n",
    "    - for in 문"
   ]
  },
  {
   "cell_type": "markdown",
   "id": "92c502ce",
   "metadata": {
    "slideshow": {
     "slide_type": "slide"
    }
   },
   "source": [
    "# 조건문/분기문 (conditional statement)\n",
    "- 프로그램이 명령문들을 실행하는 도중 특정 순서에서 **조건에 따라 흐름의 나눠져야 하는 경우 사용한다**\n",
    "- 파이썬은 조건문으로 **if문**이 있다.\n",
    "\n",
    "![조건문](images/ch03_01.png)\n",
    "\n",
    "<center>입력 받은 a 의 값이 0인지 여부에 따라 두가지 흐름으로 분기된다.</center>\n"
   ]
  },
  {
   "cell_type": "markdown",
   "id": "2a3c1835",
   "metadata": {
    "slideshow": {
     "slide_type": "subslide"
    }
   },
   "source": [
    "## 구문\n",
    "\n",
    "- 조건이 True일 경우만 특정 구문들을 실행 하는 조건문.\n",
    "```python\n",
    "if 조건:    # 조건은 bool 표현식을 기술한다. 조건선언 다음에 : 으로 선언해서 코드블록을 구분한다.\n",
    "    명령문1  # 조건이 True이면 실행할 구문들을 코드블럭에 기술한다.\n",
    "    명령문2  # 코드 블록은 들여쓰기를 이용해 묶어준다. 보통 공백 4칸으로 들여쓰기를 한다.\n",
    "    ...\n",
    "```\n",
    "> ### 파이썬의 코드블록(code block)  \n",
    "> 코드블록이란 **여러 명령문들을 묶어놓은 것을** 말한다. 코드블록으로 묶이면 실행시 같이 다 실행되고 실행이 안되면 같이 다 실행이 안된다.    \n",
    "> 파이썬에서는 코드블록을 작성할 때 **들여쓰기를 이용해 묶어준다.**   \n",
    "> 같은 칸만큼 들여쓰기를 한 명령문들이 같은 블록으로 묶인다.\n",
    "> 들여쓰기는 관례적으로 **공백 4칸을** 사용한다. \n",
    "\n",
    "> ### pass 키워드(예약어)\n",
    "> - 빈 구현부를 만들때 사용\n",
    ">     - 제어문, 함수의 body 코드블럭은 비울 수 없다. 반드시 명령문을 한개 이상 작성해야한다. \n",
    ">     - 작성할 내용이 없을 경우 사용하는 키워드로 `pass`를 사용한다. \n",
    ">     - `...` 을 대신 사용할 수 있다."
   ]
  },
  {
   "cell_type": "code",
   "execution_count": 18,
   "id": "9aa311a5",
   "metadata": {
    "slideshow": {
     "slide_type": "fragment"
    }
   },
   "outputs": [
    {
     "name": "stdin",
     "output_type": "stream",
     "text": [
      "정수:  0\n"
     ]
    },
    {
     "name": "stdout",
     "output_type": "stream",
     "text": [
      "영입니다.\n",
      "Zero입니다.\n",
      "얼마 안 남았다. 화이팅\n"
     ]
    }
   ],
   "source": [
    "num = int(input(\"정수: \"))\n",
    "if num == 0:\n",
    "    print(\"영입니다.\")\n",
    "    print(\"Zero입니다.\")\n",
    "else:\n",
    "    print(\"0이 아닙니다.\")\n",
    "\n",
    "print(\"얼마 안 남았다. 화이팅\")"
   ]
  },
  {
   "cell_type": "code",
   "execution_count": null,
   "id": "f9463564-f8b1-422a-8230-834928f4b351",
   "metadata": {},
   "outputs": [],
   "source": []
  },
  {
   "cell_type": "code",
   "execution_count": null,
   "id": "491df6b6-5a5e-4fd3-8f88-38798f5e787f",
   "metadata": {},
   "outputs": [],
   "source": []
  },
  {
   "cell_type": "code",
   "execution_count": null,
   "id": "9d871e2b-86cd-47a0-b25a-41fbfc217c1b",
   "metadata": {},
   "outputs": [],
   "source": []
  },
  {
   "cell_type": "markdown",
   "id": "09c79c35",
   "metadata": {
    "slideshow": {
     "slide_type": "subslide"
    }
   },
   "source": [
    "- **조건이 True일때 실행할 구문과 False일때 실행하는 조건문.**\n",
    "```python\n",
    "if 조건:     \n",
    "    명령문1_1 # 조건이 True일 경우 실행할 구문들\n",
    "    명령문1_2\n",
    "    ...\n",
    "else:\n",
    "    명령문2_1 # 조건이 False일 경우 실행할 구문들\n",
    "    명령문2_2\n",
    "    ...\n",
    "```"
   ]
  },
  {
   "cell_type": "code",
   "execution_count": null,
   "id": "87b51956",
   "metadata": {
    "slideshow": {
     "slide_type": "fragment"
    }
   },
   "outputs": [],
   "source": []
  },
  {
   "cell_type": "markdown",
   "id": "621eae9a",
   "metadata": {
    "slideshow": {
     "slide_type": "subslide"
    }
   },
   "source": [
    "- **조건이 여러 개인 조건문.**\n",
    "```python\n",
    "if 조건1:\n",
    "    명령문1_1  # 조건1이 True일 경우 실행할 코드블록. \n",
    "    명령문1_2\n",
    "    ...\n",
    "elif 조건2:    # 다음 조건으로 앞의 조건들이 모드 False일 경우 비교한다.\n",
    "    명령문2_1  # 조건2가 True일 경우 실행할 코드블록.\n",
    "    명령문2_2\n",
    "    ...\n",
    "elif 조건3 :\n",
    "    명령문3_1\n",
    "    명령문3_2\n",
    "    ...\n",
    "else:         # 위의 모든 조건이 False일 경우 실행하는 코드블록. 생략 가능하다.\n",
    "    명령문4\n",
    "```"
   ]
  },
  {
   "cell_type": "code",
   "execution_count": 42,
   "id": "4c6a532d",
   "metadata": {
    "slideshow": {
     "slide_type": "fragment"
    }
   },
   "outputs": [
    {
     "name": "stdin",
     "output_type": "stream",
     "text": [
      "정수:  -5\n"
     ]
    },
    {
     "name": "stdout",
     "output_type": "stream",
     "text": [
      "-5은 음수입니다.\n",
      "종료\n"
     ]
    }
   ],
   "source": [
    "num = int(input(\"정수: \"))\n",
    "\n",
    "if num > 0:\n",
    "    print(f\"{num}은 양수입니다.\")\n",
    "elif num == 0:\n",
    "    print(\"0입니다.\")\n",
    "# elif num < 0:\n",
    "#     print(f\"{num}은 음수입니다.\")\n",
    "else:\n",
    "    print(f\"{num}은 음수입니다.\")\n",
    "\n",
    "\n",
    "print(\"종료\")"
   ]
  },
  {
   "cell_type": "code",
   "execution_count": 48,
   "id": "9bbab103-8c28-4a22-a696-cc168fc08e61",
   "metadata": {},
   "outputs": [
    {
     "data": {
      "text/plain": [
       "100000"
      ]
     },
     "execution_count": 48,
     "metadata": {},
     "output_type": "execute_result"
    }
   ],
   "source": [
    "100_000"
   ]
  },
  {
   "cell_type": "markdown",
   "id": "2149b728",
   "metadata": {
    "slideshow": {
     "slide_type": "slide"
    }
   },
   "source": [
    "# 반복문 (Loop statement)\n",
    "\n",
    "특정 구문들을 반복해서 실행할 때 사용한다. 동일한 코드를 여러번 반복하거나 값이 일정하게 변하는 코드를 반복할 경우 사용한다.  \n",
    "단순 반복을 처리하는 **while문**과 iterable객체가 제공하는 값들을 반복 조회하는 **for in문** 두가지 문법이 있다.\n",
    "\n",
    "![반복문](images/ch03_02.png)\n",
    "<center>count의 값이 limit의 값보다 크거나 같을때 까지 count의 값을 1증가 후 출력하는 구문을 반복한다. </center>"
   ]
  },
  {
   "cell_type": "markdown",
   "id": "b4740a36",
   "metadata": {
    "slideshow": {
     "slide_type": "subslide"
    }
   },
   "source": [
    "## while문\n",
    "- 조건이 True인 동안 구문을 반복해서 실행한다.\n",
    "\n",
    "### 구문\n",
    "```python\n",
    "while 조건:       # 조건은 bool 표현식을 기술한다. 조건선언 다음에 : 으로 선언해서 코드블록을 구분한다\n",
    "    반복할 구문1  # 반복할 구문을 코드블록으로 작성한다.  \n",
    "    반복할 구문2\n",
    "    ...\n",
    "```"
   ]
  },
  {
   "cell_type": "code",
   "execution_count": 1,
   "id": "6b11bde6",
   "metadata": {
    "slideshow": {
     "slide_type": "fragment"
    }
   },
   "outputs": [
    {
     "name": "stdout",
     "output_type": "stream",
     "text": [
      "0\n",
      "1\n",
      "2\n",
      "3\n",
      "4\n",
      "5\n",
      "6\n",
      "7\n",
      "8\n",
      "9\n",
      "end\n"
     ]
    }
   ],
   "source": [
    "# 조건식에 사용할 변수들 선언.\n",
    "count = 0 \n",
    "limit = 10\n",
    "\n",
    "while count < limit: # 조건식\n",
    "    print(count)\n",
    "    count += 1 # 조건식의 변화를 설정 -> while 구문이 종료되도록.\n",
    "\n",
    "print(\"end\")"
   ]
  },
  {
   "cell_type": "code",
   "execution_count": 2,
   "id": "c1c8bb6c-79f7-4921-8d7d-9291512485ab",
   "metadata": {},
   "outputs": [
    {
     "name": "stdout",
     "output_type": "stream",
     "text": [
      "1. 안녕하세요!\n",
      "2. 안녕하세요!\n",
      "3. 안녕하세요!\n",
      "4. 안녕하세요!\n",
      "5. 안녕하세요!\n",
      "6. 안녕하세요!\n",
      "7. 안녕하세요!\n",
      "8. 안녕하세요!\n",
      "9. 안녕하세요!\n",
      "10. 안녕하세요!\n"
     ]
    }
   ],
   "source": [
    "count = 0 \n",
    "\n",
    "while count < 10:\n",
    "    print(f\"{count+1}. 안녕하세요!\")\n",
    "    count += 1 # 될 때까지 반복한다는 것.\n"
   ]
  },
  {
   "cell_type": "markdown",
   "id": "04f12e55",
   "metadata": {
    "slideshow": {
     "slide_type": "subslide"
    }
   },
   "source": [
    "## for  in 문\n",
    "- Iterable 객체를 순환조회하는 구문\n",
    "    - for in문은 Iterable 타입의 객체가 가지고 있는 값들을 하나씩 처리하는 구문을 작성할 때 사용한다.\n",
    "\n",
    "> - **Iterable**\n",
    ">    - 반복가능한 객체. 반복문(for in)을 이용해 일련의 값들을 반복적으로 각각 제공하는 객체를 말한다. \n",
    ">    - 대표적으로 List, Tuple, Dictionary, Set, 문자열 등이 있다.\n",
    "\n",
    "### 구문\n",
    "```python\n",
    "for 변수 in Iterable: # for in 선언후 : 으로 선언부와 구현부를 나눈다.\n",
    "    반복구문          # Iterable이 반복시 제공하는 값을 가지는 \"변수\"를 이용해 값들을 처리하는 구문을 코드블록으로 작성한다.\n",
    "    반복구문\n",
    "```"
   ]
  },
  {
   "cell_type": "code",
   "execution_count": 8,
   "id": "037b931a-f0a7-4a85-92fc-b655c8918084",
   "metadata": {},
   "outputs": [
    {
     "name": "stdout",
     "output_type": "stream",
     "text": [
      "1\n",
      "2\n",
      "3\n",
      "4\n",
      "5\n"
     ]
    }
   ],
   "source": [
    "a = [1,2,3,4,5]\n",
    "it = iter(a)\n",
    "while True:\n",
    "    try:\n",
    "        v = next(it)\n",
    "        print(v)\n",
    "    except:\n",
    "        break\n",
    "    # error도 False의 한 종류로 볼 수 있다. "
   ]
  },
  {
   "cell_type": "code",
   "execution_count": 5,
   "id": "957ed4ae-22c3-40ab-b98f-973016ac7aea",
   "metadata": {},
   "outputs": [
    {
     "data": {
      "text/plain": [
       "1"
      ]
     },
     "execution_count": 5,
     "metadata": {},
     "output_type": "execute_result"
    }
   ],
   "source": [
    "next(it)"
   ]
  },
  {
   "cell_type": "code",
   "execution_count": 6,
   "id": "ae971138-86c0-46c4-936e-5ca3612c3d05",
   "metadata": {},
   "outputs": [
    {
     "data": {
      "text/plain": [
       "2"
      ]
     },
     "execution_count": 6,
     "metadata": {},
     "output_type": "execute_result"
    }
   ],
   "source": [
    "next(it)"
   ]
  },
  {
   "cell_type": "code",
   "execution_count": null,
   "id": "44c4b290-0311-4ad5-9f3f-7ae2b557e62d",
   "metadata": {},
   "outputs": [],
   "source": []
  },
  {
   "cell_type": "code",
   "execution_count": null,
   "id": "439a10f3-bcf7-4335-baea-588bbadabb33",
   "metadata": {},
   "outputs": [],
   "source": []
  },
  {
   "cell_type": "code",
   "execution_count": null,
   "id": "9d817819-2add-4d27-8dfa-ab0d8390aed3",
   "metadata": {},
   "outputs": [],
   "source": []
  },
  {
   "cell_type": "code",
   "execution_count": 78,
   "id": "da0ce0f6",
   "metadata": {
    "slideshow": {
     "slide_type": "fragment"
    }
   },
   "outputs": [
    {
     "name": "stdout",
     "output_type": "stream",
     "text": [
      "a\n",
      "b\n"
     ]
    }
   ],
   "source": [
    "for key in {\"a\":1, \"b\":2}:\n",
    "    print(key)"
   ]
  },
  {
   "cell_type": "code",
   "execution_count": 79,
   "id": "421b888e-0a96-4b90-8c2e-f7abddd3e722",
   "metadata": {},
   "outputs": [
    {
     "name": "stdout",
     "output_type": "stream",
     "text": [
      "가\n",
      "나\n",
      "다\n",
      "라\n",
      "마\n",
      "바\n",
      "사\n",
      "아\n",
      "자\n",
      "차\n",
      "카\n",
      "타\n",
      "파\n",
      "하\n"
     ]
    }
   ],
   "source": [
    "for char in \"가나다라마바사아자차카타파하\":\n",
    "    print(char)"
   ]
  },
  {
   "cell_type": "code",
   "execution_count": 81,
   "id": "ac3aa208-afde-48e9-a3b1-b7e2884b4c26",
   "metadata": {},
   "outputs": [
    {
     "name": "stdout",
     "output_type": "stream",
     "text": [
      "[3, 2, 1, 5, 6, 13, 3, 6, 7, 8, 0]\n",
      "[3, 2, 1, 5, 6, 13, 3, 6, 7, 8, 0]\n",
      "[3, 2, 1, 5, 6, 13, 3, 6, 7, 8, 0]\n",
      "[3, 2, 1, 5, 6, 13, 3, 6, 7, 8, 0]\n",
      "[3, 2, 1, 5, 6, 13, 3, 6, 7, 8, 0]\n",
      "[3, 2, 1, 5, 6, 13, 3, 6, 7, 8, 0]\n",
      "[3, 2, 1, 5, 6, 13, 3, 6, 7, 8, 0]\n",
      "[3, 2, 1, 5, 6, 13, 3, 6, 7, 8, 0]\n",
      "[3, 2, 1, 5, 6, 13, 3, 6, 7, 8, 0]\n",
      "[3, 2, 1, 5, 6, 13, 3, 6, 7, 8, 0]\n",
      "[3, 2, 1, 5, 6, 13, 3, 6, 7, 8, 0]\n"
     ]
    }
   ],
   "source": [
    "list = [3,2,1,5,6,13,3,6,7,8,0]\n",
    "\n",
    "for i in list:\n",
    "    print(list)"
   ]
  },
  {
   "cell_type": "code",
   "execution_count": 91,
   "id": "222061dd-cbc0-4692-b086-193530513fa1",
   "metadata": {},
   "outputs": [],
   "source": [
    "l2 = [\n",
    "    (1,2,3),\n",
    "    (10,20,30),\n",
    "    (100,200,300)\n",
    "]"
   ]
  },
  {
   "cell_type": "code",
   "execution_count": 93,
   "id": "34ad5bb2-b819-4f54-bf12-04d4182c5a5b",
   "metadata": {},
   "outputs": [
    {
     "name": "stdout",
     "output_type": "stream",
     "text": [
      "1\n",
      "2\n",
      "3\n",
      "10\n",
      "20\n",
      "30\n",
      "100\n",
      "200\n",
      "300\n"
     ]
    }
   ],
   "source": [
    "# l2의 원소들을 모두 각각 출력\n",
    "for t in l2: # tuple을 지정\n",
    "    for v in t: # tuple 내부의 원소를 지정 \n",
    "        print(v)"
   ]
  },
  {
   "cell_type": "code",
   "execution_count": null,
   "id": "faaae660-b2e6-49de-abdd-f277a81a1b54",
   "metadata": {},
   "outputs": [],
   "source": []
  },
  {
   "cell_type": "markdown",
   "id": "1f30cd6f",
   "metadata": {
    "slideshow": {
     "slide_type": "subslide"
    }
   },
   "source": [
    "## continue와 break를 이용한 반복문 제어\n",
    "- **continue**\n",
    "    - 실행 블록에서 continue가 실행되면 현재 반복을 중단하고 다음 반복을 진행한다.\n",
    "    - 특정 조건에서 처리를 멈추고 다음 처리를 반복할 때 사용한다.\n",
    "- **break**\n",
    "    - 반복문 실행을 중단한다.\n",
    "    - 특정 조건에서 반복문을 중간에 중지할때 사용한다.\n",
    "- continue와 break는 특정 조건에서 실행되야 하는 경우가 대부분이므로 if문 안에 작성한다.    "
   ]
  },
  {
   "cell_type": "code",
   "execution_count": 20,
   "id": "90c41e9f",
   "metadata": {
    "slideshow": {
     "slide_type": "fragment"
    }
   },
   "outputs": [
    {
     "name": "stdout",
     "output_type": "stream",
     "text": [
      "1\n",
      "2\n",
      "4\n",
      "5\n",
      "7\n",
      "8\n",
      "10\n",
      "11\n"
     ]
    }
   ],
   "source": [
    "l = [1,2,3,4,5,6,7,8,9,10,11]\n",
    "# 3의 배수가 아닌 것\n",
    "for v in l:\n",
    "    if v % 3 == 0: # 출력하지 말아야 하는 조건\n",
    "        continue # 아래 부분을 실행하지 말고 다음 반복을 계속해라.\n",
    "\n",
    "    print(v)\n",
    "\n",
    "# continue와 breadk는 반복문 안에 들어온다. "
   ]
  },
  {
   "cell_type": "code",
   "execution_count": 21,
   "id": "bcbd0e45-5392-4134-b80d-f52b1781c0ed",
   "metadata": {},
   "outputs": [
    {
     "name": "stdout",
     "output_type": "stream",
     "text": [
      "1\n",
      "2\n",
      "3\n",
      "4\n",
      "5\n",
      "6\n"
     ]
    }
   ],
   "source": [
    "# 값이 7이면 반복을 종료\n",
    "for v in l:\n",
    "    if v == 7:\n",
    "        break\n",
    "    print(v)"
   ]
  },
  {
   "cell_type": "code",
   "execution_count": 153,
   "id": "3d85b391-8247-442d-928c-15900f078f60",
   "metadata": {},
   "outputs": [
    {
     "data": {
      "text/plain": [
       "0"
      ]
     },
     "execution_count": 153,
     "metadata": {},
     "output_type": "execute_result"
    }
   ],
   "source": [
    "import random\n",
    "random.randint(0,10) # 0 - 10 사이의 Random 범위 내의 정수 값을 생성."
   ]
  },
  {
   "cell_type": "code",
   "execution_count": 164,
   "id": "9cf5d391-f278-4910-a375-63d162c80c76",
   "metadata": {},
   "outputs": [
    {
     "name": "stdout",
     "output_type": "stream",
     "text": [
      "[-23, -80, -3, -34, -55, -65, -88, -26, -100, -25, -11, -54, -89, -29, -17, -27, -91, -62, -66, -78, -59, -74, -87, -1, -99, -9, -95, -98, -67, -98, -74, -39, -89, -11, -79, -75, -4, -69, -24, -24, -92, -58, -79, -66, -84, -75, -94, -68, -55, -21, -87, -18, -70, -6, -36, -17, -19, -57, -27, -21, -37, -32, -100, -28, -24, -19, -27, -23, -49, -77, -48, -81, -89, -65]\n",
      "[78, 78, 73, 77, 4, 23, 74, 82, 77, 77, 37, 39, 15, 1, 45, 49, 52, 9, 56, 61, 13, 84, 73, 89, 28, 63, 35, 58, 11, 1, 16, 43, 51, 83, 72, 29, 92, 18, 74, 55, 39, 94, 53, 31, 79, 77, 48, 95, 7, 93, 76, 68, 23, 100, 77, 47, 78, 70, 88, 7, 30, 92, 67, 28, 9, 28, 95, 30, 15, 16, 62, 89, 98, 84, 49]\n",
      "avg of negative num :  -53.33783783783784 \n",
      "avg of positive num :  53.82666666666667\n"
     ]
    }
   ],
   "source": [
    "# -100 ~ 100 사이의 랜덤 정수를 생성.\n",
    "# 양수와 음수를 따로 저장\n",
    "# 0일 경우에는 종료. \n",
    "\n",
    "negative = []\n",
    "positive = []\n",
    "\n",
    "while True:\n",
    "    num = random.randint(-100,100)\n",
    "    if num > 0:\n",
    "        positive.append(num)\n",
    "    elif num < 0:\n",
    "        negative.append(num)\n",
    "    else:\n",
    "        break\n",
    "\n",
    "print(negative)\n",
    "print(positive)\n",
    "\n",
    "def avg(self):\n",
    "    sum_up = 0\n",
    "    avg = 0\n",
    "    \n",
    "    for i in range(len(self)):\n",
    "        sum_up = sum_up + self[i]\n",
    "    \n",
    "    avg = sum_up / len(self)\n",
    "\n",
    "    return avg\n",
    "\n",
    "print(\"avg of negative num : \", avg(negative), \"\\navg of positive num : \", avg(positive))"
   ]
  },
  {
   "cell_type": "code",
   "execution_count": 168,
   "id": "e3aa6d7c-2c83-4e68-bd66-6ab7d0a574e6",
   "metadata": {},
   "outputs": [
    {
     "name": "stdout",
     "output_type": "stream",
     "text": [
      "[74, 96, 93, 73, 84, 96, 76, 63, 23, 67, 33, 52, 77, 60, 76, 93, 38, 35, 5, 10, 93, 9, 89, 7, 8, 91, 78, 42, 77, 37, 37, 94, 66, 25, 54, 30, 45, 83, 78, 54, 17, 76, 96, 28, 27, 10, 95, 82, 2, 58, 43, 65, 72, 32, 48, 58, 41, 39, 87, 64, 38, 20, 21, 80, 73, 69, 44, 50, 9, 33, 70, 47, 70, 89, 100, 32, 58, 79, 72, 66, 93, 29, 53, 9]\n",
      "\n",
      " 55.535714285714285\n"
     ]
    }
   ],
   "source": [
    "# -100 ~ 100 사이의 랜덤 정수를 생성.\n",
    "# 양수만 저장\n",
    "# 0일 경우에는 종료\n",
    "\n",
    "result=[]\n",
    "while True:\n",
    "    num = random.randint(-100,100)\n",
    "    if num == 0:\n",
    "        break\n",
    "    elif num < 0:\n",
    "        continue\n",
    "    result.append(num)\n",
    "\n",
    "print(result)\n",
    "print(\"\\n\",avg(result))"
   ]
  },
  {
   "cell_type": "code",
   "execution_count": null,
   "id": "e04b86c6-eb3d-4c0e-898d-f32852bed4da",
   "metadata": {},
   "outputs": [],
   "source": []
  },
  {
   "cell_type": "markdown",
   "id": "dc6099c5",
   "metadata": {
    "slideshow": {
     "slide_type": "slide"
    }
   },
   "source": [
    "## for in 문 연관 내장 함수\n",
    "\n",
    "### range()\n",
    "- 일정한 간격의 연속된 정수를 제공하는 반복가능 객체 생성한다.\n",
    "- 구문\n",
    "    - `range([시작값], 멈춤값, [증감값])`\n",
    "        - 시작값, 멈춤값, 증감값 모두 정수만 가능하다.\n",
    "        - 시작값 > 멈춤값 이고 증감값이 음수이면 내림차순으로 값을 제공한다.\n",
    "        1. 전달값이 **1개: 멈춤값**. \n",
    "            - 0 ~ (멈춤값-1)까지 1씩 증가하는 정수를 제공\n",
    "        2. 전달값이 **2개: 시작값, 멈춤값**. \n",
    "            - 시작값 ~ (멈춤값-1) 까지 1씩 증가하는 정수 제공\n",
    "        3. 전달값이 **3개: 시작값, 멈춤값, 증감값(간격)**. \n",
    "            - 시작값 ~ (멈춤값-1)까지 증감값만큼 증가하는 정수를 제공.\n"
   ]
  },
  {
   "cell_type": "code",
   "execution_count": 17,
   "id": "352d937b",
   "metadata": {
    "slideshow": {
     "slide_type": "fragment"
    }
   },
   "outputs": [
    {
     "name": "stdout",
     "output_type": "stream",
     "text": [
      "100\n",
      "95\n",
      "90\n",
      "85\n",
      "80\n",
      "75\n",
      "70\n",
      "65\n",
      "60\n",
      "55\n"
     ]
    }
   ],
   "source": [
    "for data in range(100,50,-5):\n",
    "    print(data)"
   ]
  },
  {
   "cell_type": "code",
   "execution_count": 169,
   "id": "5bb7d7e3-c11a-4e06-947d-752ff3739099",
   "metadata": {},
   "outputs": [
    {
     "name": "stdout",
     "output_type": "stream",
     "text": [
      "-10,-9,-8,-7,-6,-5,-4,-3,-2,-1,0,1,2,3,4,5,6,7,8,9,"
     ]
    }
   ],
   "source": [
    "for v in range(-10,10):\n",
    "    print(v,end=\",\")"
   ]
  },
  {
   "cell_type": "code",
   "execution_count": null,
   "id": "1c0dc3f1-f798-41dd-b749-38bd1800f66b",
   "metadata": {},
   "outputs": [],
   "source": [
    "# range는 정수만 가능"
   ]
  },
  {
   "cell_type": "code",
   "execution_count": 170,
   "id": "2dad9691-e10e-49ce-8648-86ec9edea004",
   "metadata": {},
   "outputs": [
    {
     "data": {
      "text/plain": [
       "[0, 1, 2, 3, 4, 5, 6, 7, 8, 9]"
      ]
     },
     "execution_count": 170,
     "metadata": {},
     "output_type": "execute_result"
    }
   ],
   "source": [
    "# range(): iterable\n",
    "list(range(10))"
   ]
  },
  {
   "cell_type": "code",
   "execution_count": 172,
   "id": "4f413cd3-d7f0-4f9a-bb82-3f5b4471a569",
   "metadata": {},
   "outputs": [
    {
     "data": {
      "text/plain": [
       "[10, 15, 20, 25, 30, 35, 40, 45, 50, 55, 60, 65, 70, 75, 80, 85, 90, 95]"
      ]
     },
     "execution_count": 172,
     "metadata": {},
     "output_type": "execute_result"
    }
   ],
   "source": [
    "l = list(range(10,100,5))\n",
    "l"
   ]
  },
  {
   "cell_type": "code",
   "execution_count": 173,
   "id": "e724fa7f-a0fc-482e-a123-9526d6346f73",
   "metadata": {},
   "outputs": [
    {
     "data": {
      "text/plain": [
       "(10, 12, 14, 16, 18)"
      ]
     },
     "execution_count": 173,
     "metadata": {},
     "output_type": "execute_result"
    }
   ],
   "source": [
    "l = tuple(range(10,20,2))\n",
    "l"
   ]
  },
  {
   "cell_type": "code",
   "execution_count": 174,
   "id": "9a271c9c-bc4e-4fcc-94ce-0cf82e63b2e0",
   "metadata": {},
   "outputs": [
    {
     "name": "stdout",
     "output_type": "stream",
     "text": [
      "9\n",
      "9\n",
      "9\n",
      "9\n",
      "9\n"
     ]
    }
   ],
   "source": [
    "for _ in range(5): # 변수명으로 '_' 사용 : 이 변수는 for 문 내부에서 활용하지 않는다. / 범위가 정해진 반복만 할 경우. \n",
    "    print(v)"
   ]
  },
  {
   "cell_type": "code",
   "execution_count": 175,
   "id": "48e28d00-96a3-47a5-b7a9-4cf8283cdc6f",
   "metadata": {},
   "outputs": [
    {
     "data": {
      "text/plain": [
       "[216, 344, 613, 927, 12, 56, 813, 164, 707]"
      ]
     },
     "execution_count": 175,
     "metadata": {},
     "output_type": "execute_result"
    }
   ],
   "source": [
    "num = []\n",
    "for _ in range(9):\n",
    "    num.append(random.randint(1,999))\n",
    "\n",
    "num"
   ]
  },
  {
   "cell_type": "code",
   "execution_count": null,
   "id": "edebc467-900f-4cf1-908b-5f26557a2dc5",
   "metadata": {},
   "outputs": [],
   "source": []
  },
  {
   "cell_type": "code",
   "execution_count": null,
   "id": "dd97248a-df2d-4ee2-ad1b-47b5479b29b3",
   "metadata": {},
   "outputs": [],
   "source": []
  },
  {
   "cell_type": "code",
   "execution_count": null,
   "id": "ff5a7161-69cb-4218-b396-7f3b99cd012d",
   "metadata": {},
   "outputs": [],
   "source": []
  },
  {
   "cell_type": "markdown",
   "id": "5de9d74e",
   "metadata": {
    "slideshow": {
     "slide_type": "subslide"
    }
   },
   "source": [
    "## enumerate()\n",
    "\n",
    "- 구문\n",
    "    - `enumerate(Iterable,  [, start=정수])`\n",
    "        - 현재 몇번째 값을 제공하는 지(현재 몇번째 반복인지)를 나타내는 **index**와 제공하는 **원소**를 tuple로 묶어서 반환\n",
    "        - Iterable\n",
    "            - 값을 제공할 Iterable객체\n",
    "        - start: 정수\n",
    "            - index 시작 값. 생략하면 0부터 시작한다."
   ]
  },
  {
   "cell_type": "code",
   "execution_count": 176,
   "id": "c49a4f80-ecc1-4908-bf56-5323e6e851f2",
   "metadata": {
    "slideshow": {
     "slide_type": "fragment"
    }
   },
   "outputs": [
    {
     "data": {
      "text/plain": [
       "['a', 'b', 'c', 'd', 'e']"
      ]
     },
     "execution_count": 176,
     "metadata": {},
     "output_type": "execute_result"
    }
   ],
   "source": [
    "l = list('abcde')\n",
    "l"
   ]
  },
  {
   "cell_type": "code",
   "execution_count": 184,
   "id": "4b7e0e3d-6b8d-46fc-8f51-15b6ae5f5097",
   "metadata": {
    "slideshow": {
     "slide_type": "fragment"
    }
   },
   "outputs": [
    {
     "name": "stdout",
     "output_type": "stream",
     "text": [
      "1. a\n",
      "2. b\n",
      "3. c\n",
      "4. d\n",
      "5. e\n"
     ]
    }
   ],
   "source": [
    "for v in enumerate(l,start=1): # tuple (index, value)\n",
    "    print(f\"{v[0]}. {v[1]}\") # enumerate는 순번과 데이터를 동시에 쓰기 위해 활용. "
   ]
  },
  {
   "cell_type": "code",
   "execution_count": 186,
   "id": "ec09bf05-0367-43d0-bc2e-6f23746b23b3",
   "metadata": {},
   "outputs": [
    {
     "name": "stdout",
     "output_type": "stream",
     "text": [
      "1 a\n"
     ]
    }
   ],
   "source": [
    "v1, v2 = (1,'a')\n",
    "print(v1, v2)"
   ]
  },
  {
   "cell_type": "code",
   "execution_count": 192,
   "id": "bab0bb4e-aa7c-4d76-b60f-16e605d23ce0",
   "metadata": {},
   "outputs": [
    {
     "name": "stdout",
     "output_type": "stream",
     "text": [
      "0 a\n",
      "1 b\n",
      "2 c\n",
      "4 e\n"
     ]
    }
   ],
   "source": [
    "for index, value in enumerate(l): # tuple 대입\n",
    "    if index == 3:\n",
    "        continue\n",
    "    print(index, value) # tuple 순번 / index는 지정안할시 순서대로, value는 index에 종속. "
   ]
  },
  {
   "cell_type": "code",
   "execution_count": 196,
   "id": "7881df89-00c9-4b25-8778-f432301d43f6",
   "metadata": {},
   "outputs": [
    {
     "name": "stdout",
     "output_type": "stream",
     "text": [
      "0번째 결과: 0\n",
      "100000번째 결과: 5000050000\n",
      "200000번째 결과: 20000100000\n",
      "300000번째 결과: 45000150000\n",
      "400000번째 결과: 80000200000\n",
      "500000번째 결과: 125000250000\n",
      "600000번째 결과: 180000300000\n",
      "700000번째 결과: 245000350000\n",
      "800000번째 결과: 320000400000\n",
      "900000번째 결과: 405000450000\n",
      "1000000번째 결과: 500000500000\n",
      "final result: 500,000,500,000\n"
     ]
    }
   ],
   "source": [
    "# 0 ~ 1_000_000 누적합계\n",
    "# 결과를 10만번당 한번씩 출력\n",
    "result = 0 # 합계결과를 저장할 변수\n",
    "for idx, v in enumerate(range(1_000_001)):\n",
    "    result += v\n",
    "    if idx % 100_000 == 0:\n",
    "        print(f\"{idx}번째 결과: {result}\")\n",
    "\n",
    "print(\"final result:\",format(result,\",\"))"
   ]
  },
  {
   "cell_type": "code",
   "execution_count": null,
   "id": "3d951098-1a36-4f68-9ca3-da9a3f9854e3",
   "metadata": {},
   "outputs": [],
   "source": []
  },
  {
   "cell_type": "markdown",
   "id": "f5a5540f",
   "metadata": {
    "slideshow": {
     "slide_type": "subslide"
    }
   },
   "source": [
    "## zip()\n",
    "- 여러 개의 Iterable 객체를 받아 반복시 같은 index의 값끼리 튜플로 묶어 반환한다.\n",
    "- 구문\n",
    "    - `zip(Iterable1, Iterable2, Iterable3 [, .......])`\n",
    "        - Iterable 2개이상.전달한다.\n",
    "- 각 Iterable이 제공하는 원소의 개수가가 다를 경우 가장 적은 것의 개수에 맞춰 반복한다."
   ]
  },
  {
   "cell_type": "code",
   "execution_count": 202,
   "id": "1b99057f",
   "metadata": {
    "slideshow": {
     "slide_type": "fragment"
    }
   },
   "outputs": [
    {
     "data": {
      "text/plain": [
       "[('이순신', 30, '서울'), ('유관순', 40, '인천'), ('강감찬', 50, '부산')]"
      ]
     },
     "execution_count": 202,
     "metadata": {},
     "output_type": "execute_result"
    }
   ],
   "source": [
    "names = [\"이순신\",\"유관순\",\"강감찬\"]\n",
    "ages = [30,40,50]\n",
    "address = [\"서울\",\"인천\",\"부산\"]\n",
    "\n",
    "info = []\n",
    "for i in zip(names,ages,address): # variable is tuple\n",
    "    info.append(i)\n",
    "\n",
    "info"
   ]
  },
  {
   "cell_type": "code",
   "execution_count": 205,
   "id": "cdbbd8f5-11ad-4421-aa5a-54e8a4699cc1",
   "metadata": {},
   "outputs": [
    {
     "name": "stdout",
     "output_type": "stream",
     "text": [
      "이름: 이순신, 나이: 30, 주소: 서울\n",
      "이름은 이순신, 나이는 30, 주소는 서울\n",
      "이름: 유관순, 나이: 40, 주소: 인천\n",
      "이름은 유관순, 나이는 40, 주소는 인천\n",
      "이름: 강감찬, 나이: 50, 주소: 부산\n",
      "이름은 강감찬, 나이는 50, 주소는 부산\n"
     ]
    }
   ],
   "source": [
    "for v in zip(names, ages, address):\n",
    "    print(f\"이름: {v[0]}, 나이: {v[1]}, 주소: {v[2]}\")\n",
    "    print(\"이름은 {}, 나이는 {}, 주소는 {}\".format(v[0],v[1],v[2]))"
   ]
  },
  {
   "cell_type": "code",
   "execution_count": 206,
   "id": "0d2997bd-4148-4e70-b4e5-37244d3c06e8",
   "metadata": {},
   "outputs": [
    {
     "name": "stdout",
     "output_type": "stream",
     "text": [
      "(0, ('이순신', 30, '서울'))\n",
      "(1, ('유관순', 40, '인천'))\n",
      "(2, ('강감찬', 50, '부산'))\n"
     ]
    }
   ],
   "source": [
    "for v in enumerate(zip(names, ages, address)):\n",
    "    print(v) # 반복문 자료 형식 보는 법"
   ]
  },
  {
   "cell_type": "code",
   "execution_count": 207,
   "id": "ae601ddb-5c8c-4e9c-9468-6ef1b04d9465",
   "metadata": {},
   "outputs": [
    {
     "name": "stdout",
     "output_type": "stream",
     "text": [
      "0 이순신 30 서울\n",
      "1 유관순 40 인천\n",
      "2 강감찬 50 부산\n"
     ]
    }
   ],
   "source": [
    "for v in enumerate(zip(names, ages, address)):\n",
    "    print(v[0], v[1][0], v[1][1], v[1][2])"
   ]
  },
  {
   "cell_type": "code",
   "execution_count": 208,
   "id": "f668cccd-2f64-45ab-b80e-e3fe700280dd",
   "metadata": {},
   "outputs": [
    {
     "name": "stdout",
     "output_type": "stream",
     "text": [
      "0\n",
      "('a', 'b', 'c')\n"
     ]
    }
   ],
   "source": [
    "a1, a2 = (0, ('a','b','c'))\n",
    "print(a1)\n",
    "print(a2)"
   ]
  },
  {
   "cell_type": "code",
   "execution_count": 209,
   "id": "7faebd29-ff04-4c29-83ca-78cb0fcd3aae",
   "metadata": {},
   "outputs": [
    {
     "name": "stdout",
     "output_type": "stream",
     "text": [
      "0 a b c\n"
     ]
    }
   ],
   "source": [
    "a1, (a2, a3, a4) = (0, ('a','b','c'))\n",
    "print(a1, a2, a3,a4)"
   ]
  },
  {
   "cell_type": "code",
   "execution_count": 211,
   "id": "52ebef22-41ca-4b6a-88bd-388918edef90",
   "metadata": {},
   "outputs": [
    {
     "name": "stdout",
     "output_type": "stream",
     "text": [
      "1. 이순신, 30, 서울\n",
      "2. 유관순, 40, 인천\n",
      "3. 강감찬, 50, 부산\n"
     ]
    }
   ],
   "source": [
    "for index, (name, age, address) in enumerate(zip(names, ages, address)):\n",
    "    print(f\"{index+1}. {name}, {age}, {address}\")"
   ]
  },
  {
   "cell_type": "markdown",
   "id": "2df89dae",
   "metadata": {
    "slideshow": {
     "slide_type": "subslide"
    }
   },
   "source": [
    "# 컴프리헨션(Comprehension)\n",
    "\n",
    "- 기존 Iterable의 원소들을 이용해서 새로운 자료구조(List, Dictionary, Set)를 생성하는 구문.\n",
    "    - 기존 Iterable의 **원소들을 처리한 결과**나  **특정 조건이 True인 값들을** 새로운 자료구조에 넣을때 사용.\n",
    "    - 결과를 넣을 새로운 자료구조 타입에 따라 다음 세가지가 있다.\n",
    "        - 리스트 컴프리헨션\n",
    "        - 딕셔너리  컴프리헨션\n",
    "        - 셋  컴프리헨션\n",
    "- **튜플 컴프리헨션**은 tuple() 함수를 이용해서 만든다.\n",
    "- **딕셔너리 컴프리헨션**과 **셋 컴프리헨션**은 파이썬 3 에 새로 추가되었다.\n",
    "-   컴프리헨션 문법은 iterable 을 타입을 넣는 곳에서는 다 적용할 수있다."
   ]
  },
  {
   "cell_type": "code",
   "execution_count": 213,
   "id": "e04827d9",
   "metadata": {
    "slideshow": {
     "slide_type": "fragment"
    }
   },
   "outputs": [
    {
     "data": {
      "text/plain": [
       "[10, 20, 30, 40, 50, 60, 70, 80, 90]"
      ]
     },
     "execution_count": 213,
     "metadata": {},
     "output_type": "execute_result"
    }
   ],
   "source": [
    "l1 = list(range(1,10))\n",
    "result = []\n",
    "for v in l1:\n",
    "    result.append(v*10)\n",
    "\n",
    "result # 이 구문을 표현식으로 만든 것이 comprehension"
   ]
  },
  {
   "cell_type": "code",
   "execution_count": 214,
   "id": "87ea2861-2457-4eda-8cc0-c418e2eb6ca0",
   "metadata": {},
   "outputs": [
    {
     "data": {
      "text/plain": [
       "[10, 20, 30, 40, 50, 60, 70, 80, 90]"
      ]
     },
     "execution_count": 214,
     "metadata": {},
     "output_type": "execute_result"
    }
   ],
   "source": [
    "c_result = [v*10 for v in l1] # 리스트 컴프리헨션\n",
    "c_result"
   ]
  },
  {
   "cell_type": "code",
   "execution_count": 224,
   "id": "de5bf205-3695-458c-ad8a-5aef6cab89fc",
   "metadata": {},
   "outputs": [
    {
     "data": {
      "text/plain": [
       "{0: 10, 1: 20, 2: 30, 3: 40, 4: 50, 5: 60, 6: 70, 7: 80, 8: 90}"
      ]
     },
     "execution_count": 224,
     "metadata": {},
     "output_type": "execute_result"
    }
   ],
   "source": [
    "result3 = {}\n",
    "for idx, value in enumerate(l1):\n",
    "    result3[idx] = value * 10\n",
    "\n",
    "result3"
   ]
  },
  {
   "cell_type": "code",
   "execution_count": 225,
   "id": "8a3926cf-307c-44a5-a67d-ab266719d3c3",
   "metadata": {},
   "outputs": [
    {
     "data": {
      "text/plain": [
       "{100, 200, 300, 400, 500, 600, 700, 800, 900}"
      ]
     },
     "execution_count": 225,
     "metadata": {},
     "output_type": "execute_result"
    }
   ],
   "source": [
    "list(v*100 for v in l1)\n",
    "set(v*100 for v in l1)"
   ]
  },
  {
   "cell_type": "code",
   "execution_count": null,
   "id": "2d3fd7b0-e106-473d-92a2-a986e5d0fe6d",
   "metadata": {},
   "outputs": [],
   "source": []
  },
  {
   "cell_type": "code",
   "execution_count": 226,
   "id": "5d696b5d-b916-4455-9fba-2ce8601c49b0",
   "metadata": {},
   "outputs": [
    {
     "data": {
      "text/plain": [
       "(100, 200, 300, 400, 500, 600, 700, 800, 900)"
      ]
     },
     "execution_count": 226,
     "metadata": {},
     "output_type": "execute_result"
    }
   ],
   "source": [
    "tuple(v*100 for v in l1) # when use comprehansion to make tuple, must use tuple()"
   ]
  },
  {
   "cell_type": "code",
   "execution_count": 227,
   "id": "02ce6060-97b9-46d6-81ef-30ce93a4cd60",
   "metadata": {},
   "outputs": [
    {
     "data": {
      "text/plain": [
       "[100, 200, 300, 400, 500, 600, 700, 800, 900]"
      ]
     },
     "execution_count": 227,
     "metadata": {},
     "output_type": "execute_result"
    }
   ],
   "source": [
    "[v*100 for v in l1]"
   ]
  },
  {
   "cell_type": "code",
   "execution_count": 228,
   "id": "d02b8cde-c060-4c1d-bb4a-b0e1364013a0",
   "metadata": {},
   "outputs": [
    {
     "data": {
      "text/plain": [
       "{100, 200, 300, 400, 500, 600, 700, 800, 900}"
      ]
     },
     "execution_count": 228,
     "metadata": {},
     "output_type": "execute_result"
    }
   ],
   "source": [
    "{v*100 for v in l1}"
   ]
  },
  {
   "cell_type": "code",
   "execution_count": 231,
   "id": "68fe5f8d-06f8-464e-b896-9ab9a357bbe4",
   "metadata": {},
   "outputs": [
    {
     "data": {
      "text/plain": [
       "[1, 2, 3, 4, 5, 6, 7, 8, 9, 10]"
      ]
     },
     "execution_count": 231,
     "metadata": {},
     "output_type": "execute_result"
    }
   ],
   "source": [
    "result = [] # 양수만 저장. \n",
    "for v in range(-10,11):\n",
    "    if v > 0:\n",
    "        result.append(v)\n",
    "\n",
    "result"
   ]
  },
  {
   "cell_type": "code",
   "execution_count": 233,
   "id": "4d719512-6e5a-459e-9442-7dabd6faaf94",
   "metadata": {},
   "outputs": [
    {
     "data": {
      "text/plain": [
       "[10, 20, 30, 40, 50, 60, 70, 80, 90, 100]"
      ]
     },
     "execution_count": 233,
     "metadata": {},
     "output_type": "execute_result"
    }
   ],
   "source": [
    "[v*10 for v in range(-10,11) if v > 0]"
   ]
  },
  {
   "cell_type": "markdown",
   "id": "342113fe-4daa-42e9-a8f0-aff681b63182",
   "metadata": {},
   "source": [
    "comprehension 구문 독특하네. "
   ]
  },
  {
   "cell_type": "code",
   "execution_count": 235,
   "id": "cc526010-fed1-49af-9442-a1e4c338252d",
   "metadata": {},
   "outputs": [
    {
     "data": {
      "text/plain": [
       "[-100, -90, -80, -70, -60, -50, -40, -30, -20, -10]"
      ]
     },
     "execution_count": 235,
     "metadata": {},
     "output_type": "execute_result"
    }
   ],
   "source": [
    "[v * 10 for v in range(-10,10) if v < 0]"
   ]
  },
  {
   "cell_type": "markdown",
   "id": "520ea063-083d-4359-b620-2ece689e56ad",
   "metadata": {},
   "source": [
    "이런 반복문 조건문 형태를 많이 쓰기에 comprehension구문을 만들었을 것이다. "
   ]
  },
  {
   "cell_type": "code",
   "execution_count": 237,
   "id": "cc8bb8cd-5b67-41bd-8899-f2a1c63b0e25",
   "metadata": {},
   "outputs": [
    {
     "data": {
      "text/plain": [
       "[8, 35]"
      ]
     },
     "execution_count": 237,
     "metadata": {},
     "output_type": "execute_result"
    }
   ],
   "source": [
    "l = [\n",
    "    [1,2,3],\n",
    "    [10,20,30]\n",
    "]\n",
    "\n",
    "# 3의 배수만 찾아서 +5를 한다. \n",
    "result = []\n",
    "for v in l:\n",
    "    for value in v:\n",
    "        if value % 3 == 0:\n",
    "            result.append(value + 5)\n",
    "\n",
    "result"
   ]
  },
  {
   "cell_type": "code",
   "execution_count": 240,
   "id": "c9604939-f112-4eaa-b827-6ad3ffb25040",
   "metadata": {},
   "outputs": [
    {
     "data": {
      "text/plain": [
       "[8, 35]"
      ]
     },
     "execution_count": 240,
     "metadata": {},
     "output_type": "execute_result"
    }
   ],
   "source": [
    "[value + 5 for v in l for value in v if value % 3 == 0]"
   ]
  },
  {
   "cell_type": "markdown",
   "id": "03356f68-5c1d-4343-9491-194892077900",
   "metadata": {},
   "source": [
    "- comprehension 구문은 for문과 if문의 조합이 간단할 때 사용해야 겠다. \n",
    "- 처리 속도는 comprehension 속도가 빠르다. \n",
    "- comprehension은 python에서만 제공하는 구문이다."
   ]
  },
  {
   "cell_type": "markdown",
   "id": "4c288ec7-5f9b-4e0a-82ce-534605063412",
   "metadata": {},
   "source": [
    "group coding에서 표준화 작업이 중요할 것이다. "
   ]
  },
  {
   "cell_type": "code",
   "execution_count": null,
   "id": "2bc93b45-69c8-4013-aba5-36bf9b0f07aa",
   "metadata": {},
   "outputs": [],
   "source": []
  },
  {
   "cell_type": "code",
   "execution_count": null,
   "id": "177f569b-ac5a-4ee4-a228-d4a37f24293c",
   "metadata": {},
   "outputs": [],
   "source": []
  },
  {
   "cell_type": "markdown",
   "id": "092288d7",
   "metadata": {
    "slideshow": {
     "slide_type": "skip"
    }
   },
   "source": [
    "# TODO"
   ]
  },
  {
   "cell_type": "code",
   "execution_count": 243,
   "id": "4be8b97a-84a0-4dce-a082-b144a534c095",
   "metadata": {
    "slideshow": {
     "slide_type": "skip"
    }
   },
   "outputs": [
    {
     "name": "stdin",
     "output_type": "stream",
     "text": [
      "점수를 입력해주세요. \n",
      "점수 :  88\n"
     ]
    },
    {
     "name": "stdout",
     "output_type": "stream",
     "text": [
      "B학점입니다. 고생하셨습니다.\n"
     ]
    }
   ],
   "source": [
    "#(1) 다음 점수 구간에 맞게 학점을 출력하세요.\n",
    "# 91 ~ 100 : A학점\n",
    "# 81 ~ 90 :  B학점\n",
    "# 71 ~ 80 :  C학점\n",
    "# 61 ~ 70 :  D학점\n",
    "# 60이하   :  F학점\n",
    "\n",
    "score = int(input(\"점수를 입력해주세요. \\n점수 : \"))\n",
    "\n",
    "if score > 90:\n",
    "    print(\"A학점입니다. 고생하셨습니다.\")\n",
    "elif score > 80:\n",
    "    print(\"B학점입니다. 고생하셨습니다.\")\n",
    "elif score > 70:\n",
    "    print(\"C학점입니다. 적당히 하셨습니다.\")\n",
    "elif score > 60:\n",
    "    print(\"D학점입니다. 그래도 출석한다고 수고하셨습니다.\")\n",
    "else:\n",
    "    print(\"F학점입니다. 곧 또 뵙겠습니다.\")"
   ]
  },
  {
   "cell_type": "code",
   "execution_count": 254,
   "id": "f8bbb92e-9aa6-49a7-96c2-13b82534ac60",
   "metadata": {},
   "outputs": [
    {
     "name": "stdin",
     "output_type": "stream",
     "text": [
      "점수를 입력하세요.\n",
      "\n",
      "점수 : 100\n"
     ]
    },
    {
     "name": "stdout",
     "output_type": "stream",
     "text": [
      "A학점입니다.\n"
     ]
    }
   ],
   "source": [
    "jumsu = int(input(\"점수를 입력하세요.\\n\\n점수 :\"))\n",
    "if jumsu < 0 or jumsu > 100:\n",
    "    print(f\"{jumsu}는 잘못된 점수입니다. 0 ~ 100점 사이의 점수를 입력하세요.\")\n",
    "elif jumsu > 90:\n",
    "    print(\"A학점입니다.\")\n",
    "elif jumsu > 80:\n",
    "    print(\"B학점입니다.\")\n",
    "elif jumsu > 70:\n",
    "    print(\"C학점입니다.\")\n",
    "elif jumsu > 60:\n",
    "    print(\"D학점입니다.\")\n",
    "else:\n",
    "    print(\"F학점입니다.\")"
   ]
  },
  {
   "cell_type": "code",
   "execution_count": null,
   "id": "f90e22f3-a8ef-47f1-b1cf-1488e98f7d1a",
   "metadata": {},
   "outputs": [],
   "source": []
  },
  {
   "cell_type": "code",
   "execution_count": 26,
   "id": "56d14226-7157-430b-8831-c6d576007997",
   "metadata": {
    "slideshow": {
     "slide_type": "skip"
    }
   },
   "outputs": [
    {
     "name": "stdin",
     "output_type": "stream",
     "text": [
      "ID:  abcde\n"
     ]
    },
    {
     "name": "stdout",
     "output_type": "stream",
     "text": [
      "사용할 수 있습니다.\n"
     ]
    }
   ],
   "source": [
    "#(2) 사용자로 부터 ID를 입력 받은 뒤 입력받은 ID가 5글자 이상이면 \"사용할 수 있습니다.\"를 5글자 미만이면 \"사용할 수 없는 ID입니다.\"를 출력하세요.\n",
    "ID = input(\"ID: \")\n",
    "\n",
    "if len(ID) > 4:\n",
    "    print(\"사용할 수 있습니다.\")\n",
    "else:\n",
    "    print(\"가입할 수 없는 ID입니다.\")\n",
    "    print(\"5글자 이상 입력하세요.\")\n",
    "    "
   ]
  },
  {
   "cell_type": "code",
   "execution_count": 57,
   "id": "e9035163-ed93-4b48-a4fd-87188a355aa7",
   "metadata": {
    "slideshow": {
     "slide_type": "skip"
    }
   },
   "outputs": [
    {
     "name": "stdin",
     "output_type": "stream",
     "text": [
      "주소를 입력해주세요. \n",
      "\n",
      "주소:  서울\n"
     ]
    },
    {
     "name": "stdout",
     "output_type": "stream",
     "text": [
      "특별시\n"
     ]
    }
   ],
   "source": [
    "#(3) 사용자로부터 우리나라 도시명을 입력 받은 뒤 입력받은 도시명이 서울이면 \"특별시\"를 인천,부산,광주,대구,대전,울산 이면 \"광역시\"를 나머지는 \"특별시나 광역시가 아닙니다.\"를 출력하세요.\n",
    "address = input(\"주소를 입력해주세요. \\n\\n주소: \")\n",
    "\n",
    "if address == \"서울\":\n",
    "    print(\"특별시\")\n",
    "elif address == \"인천\":\n",
    "    print(\"광역시\")\n",
    "elif address == \"부산\":\n",
    "    print(\"광역시\")\n",
    "elif address == \"광주\":\n",
    "    print(\"광역시\")\n",
    "elif address == \"대구\":\n",
    "    print(\"광역시\")\n",
    "elif address == \"대전\":\n",
    "    print(\"광역시\")\n",
    "elif address == \"울산\":\n",
    "    print(\"광역시\")\n",
    "else:\n",
    "    print(\"특별시나 광역시가 아닙니다.\")\n",
    "\n",
    "# or를 입력하면 왜 작동이 안 될까?\n"
   ]
  },
  {
   "cell_type": "code",
   "execution_count": 263,
   "id": "79903da0-2818-4b93-866a-82e9c9e0929c",
   "metadata": {},
   "outputs": [
    {
     "name": "stdin",
     "output_type": "stream",
     "text": [
      "도시 :  서울\n"
     ]
    },
    {
     "name": "stdout",
     "output_type": "stream",
     "text": [
      "특별시\n"
     ]
    }
   ],
   "source": [
    "city = input(\"도시 : \")\n",
    "\n",
    "if city == \"서울\":\n",
    "    print(\"특별시\")\n",
    "elif city in [\"인천\",\"부산\",\"광주\",\"대구\",\"대전\",\"울산\"]:\n",
    "    print(\"광역시\")\n",
    "else:\n",
    "    print(\"특별시나 광역시가 아닙니다.\")\n",
    "\n",
    "# C나 java 등 다른 언어에 switch case 구문이 있다."
   ]
  },
  {
   "cell_type": "code",
   "execution_count": 264,
   "id": "628dc73a-4c2e-49a2-8eb1-ad122b6be488",
   "metadata": {
    "slideshow": {
     "slide_type": "skip"
    }
   },
   "outputs": [
    {
     "data": {
      "text/plain": [
       "89.0"
      ]
     },
     "execution_count": 264,
     "metadata": {},
     "output_type": "execute_result"
    }
   ],
   "source": [
    "#(4-5)\n",
    "#(4) 아래 리스트의 평균을 구하시오. \n",
    "jumsu = [100, 90, 100, 80, 70, 100, 80, 90, 95, 85]\n",
    "\n",
    "average = 0\n",
    "idx = 0\n",
    "\n",
    "for i in range(len(jumsu)):\n",
    "    idx += jumsu[i]\n",
    "\n",
    "average = idx / len(jumsu)\n",
    "\n",
    "average"
   ]
  },
  {
   "cell_type": "code",
   "execution_count": 265,
   "id": "ce87cd85-7429-410d-b124-206d1f0d8d3b",
   "metadata": {},
   "outputs": [
    {
     "name": "stdout",
     "output_type": "stream",
     "text": [
      "Sum of the score:  890\n",
      "avg:  89.0\n"
     ]
    }
   ],
   "source": [
    "jumsu_sum =0\n",
    "for v in jumsu:\n",
    "    jumsu_sum += v \n",
    "print(\"Sum of the score: \", jumsu_sum)\n",
    "jumsu_avg = jumsu_sum / len(jumsu)\n",
    "print(\"avg: \", jumsu_avg)"
   ]
  },
  {
   "cell_type": "code",
   "execution_count": 87,
   "id": "410d504d-d415-4b0a-b27a-06e31477c0d6",
   "metadata": {
    "slideshow": {
     "slide_type": "skip"
    }
   },
   "outputs": [
    {
     "name": "stdout",
     "output_type": "stream",
     "text": [
      "0 -pass\n",
      "1 -pass\n",
      "2 -pass\n",
      "3 -fail\n",
      "4 -fail\n",
      "5 -pass\n",
      "6 -fail\n",
      "7 -pass\n",
      "8 -pass\n",
      "9 -fail\n"
     ]
    },
    {
     "data": {
      "text/plain": [
       "range(0, 10)"
      ]
     },
     "execution_count": 87,
     "metadata": {},
     "output_type": "execute_result"
    }
   ],
   "source": [
    "#(5) 위 jumsu리스트에서 평균점수이상은 pass, 미만은 fail을 index번호와 함께 출력하시오. (ex: 0-pass, 1-pass, 2-fail)\n",
    "for i in range(len(jumsu)):\n",
    "    if jumsu[i] >= average:\n",
    "        print(i,\"-pass\")\n",
    "    else:\n",
    "        print(i,\"-fail\")\n",
    "\n",
    "range(len(jumsu))"
   ]
  },
  {
   "cell_type": "code",
   "execution_count": 270,
   "id": "f9d35291-46ba-4810-a888-5dad58da5622",
   "metadata": {},
   "outputs": [
    {
     "name": "stdout",
     "output_type": "stream",
     "text": [
      "0-pass, score:100\n",
      "1-pass, score:90\n",
      "2-pass, score:100\n",
      "3-fail, score:80\n",
      "4-fail, score:70\n",
      "5-pass, score:100\n",
      "6-fail, score:80\n",
      "7-pass, score:90\n",
      "8-pass, score:95\n",
      "9-fail, score:85\n"
     ]
    }
   ],
   "source": [
    "for idx, v in enumerate(jumsu):\n",
    "    if v >= jumsu_avg:\n",
    "        print(f\"{idx}-pass, score:{v}\")\n",
    "    else:\n",
    "        print(f\"{idx}-fail, score:{v}\")"
   ]
  },
  {
   "cell_type": "code",
   "execution_count": 274,
   "id": "101edc37-346f-416b-b632-b878dec07ac5",
   "metadata": {},
   "outputs": [
    {
     "name": "stdout",
     "output_type": "stream",
     "text": [
      "0-pass(100)\n",
      "1-pass(90)\n",
      "2-pass(100)\n",
      "3-fail(80)\n",
      "4-fail(70)\n",
      "5-pass(100)\n",
      "6-fail(80)\n",
      "7-pass(90)\n",
      "8-pass(95)\n",
      "9-fail(85)\n"
     ]
    }
   ],
   "source": [
    "for idx, v in enumerate(jumsu):\n",
    "    # print(\"pass\" if v >= jumsu_avg else \"fail\")\n",
    "    print(f\"{idx}-{\"pass\" if v >= jumsu_avg else \"fail\"}({v})\")"
   ]
  },
  {
   "cell_type": "code",
   "execution_count": 277,
   "id": "d7e020d0-5902-4b2b-9700-989354f1c108",
   "metadata": {
    "slideshow": {
     "slide_type": "skip"
    }
   },
   "outputs": [
    {
     "data": {
      "text/plain": [
       "95"
      ]
     },
     "execution_count": 277,
     "metadata": {},
     "output_type": "execute_result"
    }
   ],
   "source": [
    "#(6) 아래 리스트 값들 중 최대값을 조회해 출력하시오.\n",
    "jumsu = [60, 90, 80, 80, 70, 55, 80, 90, 95, 85]\n",
    "\n",
    "max_num = 0\n",
    "\n",
    "for i in range(len(jumsu)):\n",
    "    if max_num < jumsu[i]:\n",
    "        max_num = jumsu[i]\n",
    "\n",
    "max_num\n"
   ]
  },
  {
   "cell_type": "code",
   "execution_count": 278,
   "id": "5522bbeb-7515-4a11-b0e2-a752ebb48ea0",
   "metadata": {},
   "outputs": [
    {
     "data": {
      "text/plain": [
       "95"
      ]
     },
     "execution_count": 278,
     "metadata": {},
     "output_type": "execute_result"
    }
   ],
   "source": [
    "sorted(jumsu)[-1]"
   ]
  },
  {
   "cell_type": "code",
   "execution_count": 280,
   "id": "45837d08-3e04-49b5-a568-f5eefe90bd4f",
   "metadata": {},
   "outputs": [
    {
     "data": {
      "text/plain": [
       "(95, 55)"
      ]
     },
     "execution_count": 280,
     "metadata": {},
     "output_type": "execute_result"
    }
   ],
   "source": [
    "max(jumsu), min(jumsu)"
   ]
  },
  {
   "cell_type": "code",
   "execution_count": 281,
   "id": "40c47191-2c52-4c38-a965-1a3cf849c582",
   "metadata": {},
   "outputs": [
    {
     "data": {
      "text/plain": [
       "785"
      ]
     },
     "execution_count": 281,
     "metadata": {},
     "output_type": "execute_result"
    }
   ],
   "source": [
    "sum(jumsu)"
   ]
  },
  {
   "cell_type": "code",
   "execution_count": 64,
   "id": "e8243a42-ae65-4364-94cb-62f7d995a55d",
   "metadata": {
    "slideshow": {
     "slide_type": "skip"
    }
   },
   "outputs": [
    {
     "data": {
      "text/plain": [
       "['소', '호랑이', '용', '토끼', '뱀', '돼지', '호랑이']"
      ]
     },
     "execution_count": 64,
     "metadata": {},
     "output_type": "execute_result"
    }
   ],
   "source": [
    "#(7) 다음 리스트 중에서 \"쥐\"와 \"토끼\" 제외한 나머지를 출력하세요.\n",
    "str_list = [\"쥐\", \"소\", \"호랑이\", \"토끼\", \"용\", \"토끼\", \"뱀\", \"돼지\", \"호랑이\"]\n",
    "str_list.remove(\"쥐\")\n",
    "str_list.remove(\"토끼\")\n",
    "str_list"
   ]
  },
  {
   "cell_type": "code",
   "execution_count": 283,
   "id": "0fdd5084-9180-496b-8afa-5dcf54b96f29",
   "metadata": {},
   "outputs": [
    {
     "name": "stdout",
     "output_type": "stream",
     "text": [
      "소,호랑이,용,뱀,돼지,호랑이,"
     ]
    }
   ],
   "source": [
    "str_list = [\"쥐\", \"소\", \"호랑이\", \"토끼\", \"용\", \"토끼\", \"뱀\", \"돼지\", \"호랑이\"]\n",
    "for name in str_list:\n",
    "    if name not in [\"쥐\", \"토끼\"]:\n",
    "        print(name, end=\",\")"
   ]
  },
  {
   "cell_type": "code",
   "execution_count": 298,
   "id": "f6661e27-521a-4c69-8e47-92ef0c7f3d25",
   "metadata": {},
   "outputs": [
    {
     "data": {
      "text/plain": [
       "['소', '호랑이', '용', '뱀', '돼지', '호랑이']"
      ]
     },
     "execution_count": 298,
     "metadata": {},
     "output_type": "execute_result"
    }
   ],
   "source": [
    "lst2 = []\n",
    "lst2 = list(v for v in str_list if v not in [\"쥐\", \"토끼\"])\n",
    "lst2"
   ]
  },
  {
   "cell_type": "code",
   "execution_count": 67,
   "id": "d4046a4a-2e85-4f02-a0e7-ea2266c67023",
   "metadata": {
    "slideshow": {
     "slide_type": "skip"
    }
   },
   "outputs": [
    {
     "name": "stdin",
     "output_type": "stream",
     "text": [
      "단을 입력하시오.\n",
      "\n",
      "만들 단 : \n",
      " 6\n"
     ]
    },
    {
     "name": "stdout",
     "output_type": "stream",
     "text": [
      "6 X 1 = 6\n",
      "6 X 2 = 12\n",
      "6 X 3 = 18\n",
      "6 X 4 = 24\n",
      "6 X 5 = 30\n",
      "6 X 6 = 36\n",
      "6 X 7 = 42\n",
      "6 X 8 = 48\n",
      "6 X 9 = 54\n"
     ]
    }
   ],
   "source": [
    "#(8) 사용자로부터 정수를 입력받아 그 정수 단의 구구단을 출력하시오. \n",
    "# ex) \n",
    "# 단을 입력하시오 : 2  \n",
    "# 2 x 1 = 2\n",
    "# 2 x 2 = 4\n",
    "#..\n",
    "# 2 x 9 = 18\n",
    "\n",
    "#컴프리헨션\n",
    "\n",
    "a = int(input(\"단을 입력하시오.\\n\\n만들 단 : \\n\"))\n",
    "\n",
    "for i in range(9):\n",
    "    print(f\"{a} X {i+1} = {a * (i+1)}\")\n",
    "\n"
   ]
  },
  {
   "cell_type": "code",
   "execution_count": 291,
   "id": "db86ec82-9ad4-4c88-9bb7-2c41032167f2",
   "metadata": {},
   "outputs": [
    {
     "name": "stdin",
     "output_type": "stream",
     "text": [
      "단을 입력하시오 :  4\n"
     ]
    },
    {
     "name": "stdout",
     "output_type": "stream",
     "text": [
      "4 X 1 = 4\n",
      "4 X 2 = 8\n",
      "4 X 3 = 12\n",
      "4 X 4 = 16\n",
      "4 X 5 = 20\n",
      "4 X 6 = 24\n",
      "4 X 7 = 28\n",
      "4 X 8 = 32\n",
      "4 X 9 = 36\n"
     ]
    }
   ],
   "source": [
    "dan = int(input(\"단을 입력하시오 : \"))\n",
    "for i in range(1, 10):\n",
    "    print(f\"{dan} X {i} = {dan*i}\")"
   ]
  },
  {
   "cell_type": "code",
   "execution_count": 297,
   "id": "ab80ef27-1b7f-41bb-a4eb-5035b280ee80",
   "metadata": {},
   "outputs": [
    {
     "name": "stdout",
     "output_type": "stream",
     "text": [
      "1 X 1 = 1\t2 X 1 = 2\t3 X 1 = 3\t4 X 1 = 4\t5 X 1 = 5\t6 X 1 = 6\t7 X 1 = 7\t8 X 1 = 8\t9 X 1 = 9\t1 X 2 = 2\t2 X 2 = 4\t3 X 2 = 6\t4 X 2 = 8\t5 X 2 = 10\t6 X 2 = 12\t7 X 2 = 14\t8 X 2 = 16\t9 X 2 = 18\t1 X 3 = 3\t2 X 3 = 6\t3 X 3 = 9\t4 X 3 = 12\t5 X 3 = 15\t6 X 3 = 18\t7 X 3 = 21\t8 X 3 = 24\t9 X 3 = 27\t1 X 4 = 4\t2 X 4 = 8\t3 X 4 = 12\t4 X 4 = 16\t5 X 4 = 20\t6 X 4 = 24\t7 X 4 = 28\t8 X 4 = 32\t9 X 4 = 36\t1 X 5 = 5\t2 X 5 = 10\t3 X 5 = 15\t4 X 5 = 20\t5 X 5 = 25\t6 X 5 = 30\t7 X 5 = 35\t8 X 5 = 40\t9 X 5 = 45\t1 X 6 = 6\t2 X 6 = 12\t3 X 6 = 18\t4 X 6 = 24\t5 X 6 = 30\t6 X 6 = 36\t7 X 6 = 42\t8 X 6 = 48\t9 X 6 = 54\t1 X 7 = 7\t2 X 7 = 14\t3 X 7 = 21\t4 X 7 = 28\t5 X 7 = 35\t6 X 7 = 42\t7 X 7 = 49\t8 X 7 = 56\t9 X 7 = 63\t1 X 8 = 8\t2 X 8 = 16\t3 X 8 = 24\t4 X 8 = 32\t5 X 8 = 40\t6 X 8 = 48\t7 X 8 = 56\t8 X 8 = 64\t9 X 8 = 72\t1 X 9 = 9\t2 X 9 = 18\t3 X 9 = 27\t4 X 9 = 36\t5 X 9 = 45\t6 X 9 = 54\t7 X 9 = 63\t8 X 9 = 72\t9 X 9 = 81\t"
     ]
    }
   ],
   "source": [
    "# 구구단\n",
    "for i in range(1,10):\n",
    "    for j in range(1,10):\n",
    "        print(f\"{j} X {i} = {i*j}\", end = \"\\t\")"
   ]
  },
  {
   "cell_type": "code",
   "execution_count": 216,
   "id": "3ffc72d5-d6a9-4d48-a359-3cce1b1c4396",
   "metadata": {
    "slideshow": {
     "slide_type": "skip"
    }
   },
   "outputs": [
    {
     "name": "stdout",
     "output_type": "stream",
     "text": [
      "[20, 60, 140, 10, 240, 1400, 2, 70]\n"
     ]
    }
   ],
   "source": [
    "#(9) 다음 리스트가 가진 값에 두배(* 2)를 가지는 새로운 리스트를 만드시오. (리스트 컴프리헨션 이용)\n",
    "lst = [10, 30, 70, 5, 120, 700, 1, 35]\n",
    "lst2 = lst[:]\n",
    "\n",
    "for i in range(len(lst)):\n",
    "    lst2[i] = lst[i]*2\n",
    "\n",
    "print(lst2)"
   ]
  },
  {
   "cell_type": "code",
   "execution_count": 217,
   "id": "3e5ad324-170b-4260-ba7f-484f3e60ff10",
   "metadata": {},
   "outputs": [
    {
     "data": {
      "text/plain": [
       "[20, 60, 140, 10, 240, 1400, 2, 70]"
      ]
     },
     "execution_count": 217,
     "metadata": {},
     "output_type": "execute_result"
    }
   ],
   "source": [
    "lst3 = [v*2 for v in lst]\n",
    "lst3"
   ]
  },
  {
   "cell_type": "code",
   "execution_count": 218,
   "id": "8f52dfd7-dd3c-4ac1-9203-b7403c8c0297",
   "metadata": {
    "slideshow": {
     "slide_type": "skip"
    }
   },
   "outputs": [
    {
     "data": {
      "text/plain": [
       "[(10, 100),\n",
       " (30, 300),\n",
       " (70, 700),\n",
       " (5, 50),\n",
       " (5, 50),\n",
       " (120, 1200),\n",
       " (700, 7000),\n",
       " (1, 10),\n",
       " (35, 350),\n",
       " (35, 350)]"
      ]
     },
     "execution_count": 218,
     "metadata": {},
     "output_type": "execute_result"
    }
   ],
   "source": [
    "#(10) 다음 리스트가 가진 값에 10배의 값을 가지는 값을 (원래값, 10배값) 의 튜플 묶음으로 가지는 리스트를 만드시오 (리스트 컴프리헨션 이용)\n",
    "# Ex) [(10,100), (30,300), .., (35, 350)]\n",
    "lst = [10, 30, 70, 5, 5, 120, 700, 1, 35, 35]\n",
    "lst2 = lst[:]\n",
    "\n",
    "for i in range(len(lst)):\n",
    "    lst2[i] = lst[i], lst[i] * 10\n",
    "\n",
    "lst2"
   ]
  },
  {
   "cell_type": "code",
   "execution_count": 219,
   "id": "9ac3b991-2094-4187-abc1-ec3757610047",
   "metadata": {},
   "outputs": [
    {
     "data": {
      "text/plain": [
       "[(10, 100),\n",
       " (30, 300),\n",
       " (70, 700),\n",
       " (5, 50),\n",
       " (5, 50),\n",
       " (120, 1200),\n",
       " (700, 7000),\n",
       " (1, 10),\n",
       " (35, 350),\n",
       " (35, 350)]"
      ]
     },
     "execution_count": 219,
     "metadata": {},
     "output_type": "execute_result"
    }
   ],
   "source": [
    "lst4 = [(v,v*10) for v in lst]\n",
    "lst4"
   ]
  },
  {
   "cell_type": "code",
   "execution_count": 220,
   "id": "33b893c3-7705-4222-9a62-2220fa972d38",
   "metadata": {
    "slideshow": {
     "slide_type": "skip"
    }
   },
   "outputs": [
    {
     "data": {
      "text/plain": [
       "[3, 33, 21, 33, 60, 120]"
      ]
     },
     "execution_count": 220,
     "metadata": {},
     "output_type": "execute_result"
    }
   ],
   "source": [
    "#(11) 다음 리스트가 가진 값들 중 3의 배수만 가지는 리스트를 만드시오. (리스트 컴프리헨션 이용)\n",
    "lst2 = [ 3, 20, 33, 21, 33, 8, 11, 10, 7, 17, 60, 120, 2]\n",
    "lst3 = []\n",
    "\n",
    "for i in range(len(lst2)):\n",
    "    if lst2[i] % 3 == 0:\n",
    "        lst3.append(lst2[i])\n",
    "\n",
    "lst3\n",
    "\n"
   ]
  },
  {
   "cell_type": "code",
   "execution_count": 222,
   "id": "81fbc747-eb71-4f0f-a1a0-248e1ec543cf",
   "metadata": {},
   "outputs": [
    {
     "data": {
      "text/plain": [
       "[3, 33, 21, 33, 60, 120]"
      ]
     },
     "execution_count": 222,
     "metadata": {},
     "output_type": "execute_result"
    }
   ],
   "source": [
    "lst5 = [v for v in lst2 if v % 3 ==0]\n",
    "lst5"
   ]
  },
  {
   "cell_type": "code",
   "execution_count": 242,
   "id": "075c72cc-ef5d-42b3-97cf-017c99c3b2e5",
   "metadata": {},
   "outputs": [
    {
     "ename": "SyntaxError",
     "evalue": "invalid syntax (1001072606.py, line 2)",
     "output_type": "error",
     "traceback": [
      "\u001b[1;36m  Cell \u001b[1;32mIn[242], line 2\u001b[1;36m\u001b[0m\n\u001b[1;33m    append 3 to l3\u001b[0m\n\u001b[1;37m           ^\u001b[0m\n\u001b[1;31mSyntaxError\u001b[0m\u001b[1;31m:\u001b[0m invalid syntax\n"
     ]
    }
   ],
   "source": [
    "l3 = []\n",
    "append 3 to l3\n",
    "\n",
    "l3"
   ]
  },
  {
   "cell_type": "code",
   "execution_count": 73,
   "id": "b6447196-7324-4de8-a68c-a014b78366dd",
   "metadata": {
    "slideshow": {
     "slide_type": "skip"
    }
   },
   "outputs": [
    {
     "data": {
      "text/plain": [
       "['a.exe', 'function.exe', 'b.exe', 'run.exe']"
      ]
     },
     "execution_count": 73,
     "metadata": {},
     "output_type": "execute_result"
    }
   ],
   "source": [
    "#(12) 다음 파일이름들을 담은 리스트에서 확장자가 exe인 파일만 골라서 새로운 리스트에 담으시오.(string의 endswith()함수 이용)\n",
    "file_names=[\"test.txt\", \"a.exe\", \"jupyter.bat\", \"function.exe\", \"b.exe\", \"cat.jpg\", \"dog.png\", \"run.exe\", \"i.dll\"]\n",
    "exe_files = []\n",
    "\n",
    "for i in range(len(file_names)):\n",
    "    if file_names[i].endswith(\"exe\"):\n",
    "        exe_files.append(file_names[i])\n",
    "\n",
    "exe_files"
   ]
  },
  {
   "cell_type": "code",
   "execution_count": 74,
   "id": "e9f671db-5251-4dcb-a309-5ddf139e8d26",
   "metadata": {
    "slideshow": {
     "slide_type": "skip"
    }
   },
   "outputs": [
    {
     "data": {
      "text/plain": [
       "['mystroy.txt', 'jupyter.bat', 'function.exe']"
      ]
     },
     "execution_count": 74,
     "metadata": {},
     "output_type": "execute_result"
    }
   ],
   "source": [
    "#(13) 다음 중 10글자 이상인 파일명(확장자포함)만 가지는 리스트를 만드시오.\n",
    "file_names=[\"mystroy.txt\", \"a.exe\", \"jupyter.bat\", \"function.exe\", \"b.exe\", \"cat.jpg\", \"dog.png\", \"run.exe\", \"i.dll\"]\n",
    "long_filename_files = []\n",
    "\n",
    "for i in range(len(file_names)):\n",
    "    if len(file_names[i]) >= 10:\n",
    "        long_filename_files.append(file_names[i])\n",
    "\n",
    "long_filename_files"
   ]
  },
  {
   "cell_type": "code",
   "execution_count": 77,
   "id": "eb49fbd2-f974-4d9f-96e3-40a0d1074545",
   "metadata": {
    "slideshow": {
     "slide_type": "skip"
    }
   },
   "outputs": [
    {
     "data": {
      "text/plain": [
       "['c', 'g', 'h', 'k']"
      ]
     },
     "execution_count": 77,
     "metadata": {},
     "output_type": "execute_result"
    }
   ],
   "source": [
    "#(14) 다음 리스트에서 소문자만 가지는 새로운 리스트를 만드시오.\n",
    "str_list = [\"A\", \"B\", \"c\", \"D\", \"E\", \"F\", \"g\", \"h\", \"I\", \"J\", \"k\"]\n",
    "# 소문자 리스트 \n",
    "small_list = []\n",
    "# 대문자 리스트\n",
    "up_list = []\n",
    "\n",
    "for i in range(len(str_list)):\n",
    "    up_list.append(str_list[i].upper())\n",
    "\n",
    "for i in range(len(str_list)):\n",
    "    if up_list[i] != str_list[i]:\n",
    "        small_list.append(str_list[i])\n",
    "\n",
    "small_list"
   ]
  },
  {
   "cell_type": "code",
   "execution_count": null,
   "id": "fce1a023-208d-4ce8-9060-2f4fed297fc1",
   "metadata": {},
   "outputs": [],
   "source": []
  },
  {
   "cell_type": "code",
   "execution_count": null,
   "id": "b6d9a519-ce1a-431b-81ab-3dec34abd1ba",
   "metadata": {},
   "outputs": [],
   "source": []
  },
  {
   "cell_type": "code",
   "execution_count": null,
   "id": "f4945ec8-652d-47e5-a7ed-daec99e46a6a",
   "metadata": {},
   "outputs": [],
   "source": []
  },
  {
   "cell_type": "code",
   "execution_count": null,
   "id": "8b86b69b-2892-4202-ac36-3748f814d72e",
   "metadata": {},
   "outputs": [],
   "source": []
  }
 ],
 "metadata": {
  "kernelspec": {
   "display_name": "Python 3 (ipykernel)",
   "language": "python",
   "name": "python3"
  },
  "language_info": {
   "codemirror_mode": {
    "name": "ipython",
    "version": 3
   },
   "file_extension": ".py",
   "mimetype": "text/x-python",
   "name": "python",
   "nbconvert_exporter": "python",
   "pygments_lexer": "ipython3",
   "version": "3.12.4"
  },
  "toc": {
   "base_numbering": 1,
   "nav_menu": {},
   "number_sections": true,
   "sideBar": true,
   "skip_h1_title": false,
   "title_cell": "Table of Contents",
   "title_sidebar": "Contents",
   "toc_cell": false,
   "toc_position": {},
   "toc_section_display": true,
   "toc_window_display": false
  },
  "varInspector": {
   "cols": {
    "lenName": 16,
    "lenType": 16,
    "lenVar": 40
   },
   "kernels_config": {
    "python": {
     "delete_cmd_postfix": "",
     "delete_cmd_prefix": "del ",
     "library": "var_list.py",
     "varRefreshCmd": "print(var_dic_list())"
    },
    "r": {
     "delete_cmd_postfix": ") ",
     "delete_cmd_prefix": "rm(",
     "library": "var_list.r",
     "varRefreshCmd": "cat(var_dic_list()) "
    }
   },
   "types_to_exclude": [
    "module",
    "function",
    "builtin_function_or_method",
    "instance",
    "_Feature"
   ],
   "window_display": false
  }
 },
 "nbformat": 4,
 "nbformat_minor": 5
}
